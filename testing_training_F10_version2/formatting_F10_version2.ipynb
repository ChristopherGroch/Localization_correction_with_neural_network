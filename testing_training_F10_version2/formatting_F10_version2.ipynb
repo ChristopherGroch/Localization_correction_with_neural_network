{
 "cells": [
  {
   "cell_type": "code",
   "execution_count": 149,
   "metadata": {
    "collapsed": true,
    "ExecuteTime": {
     "start_time": "2023-05-22T18:37:08.167868Z",
     "end_time": "2023-05-22T18:37:08.190277Z"
    }
   },
   "outputs": [],
   "source": [
    "import pandas as pd\n",
    "import glob\n",
    "pd.options.mode.chained_assignment = None"
   ]
  },
  {
   "cell_type": "code",
   "execution_count": 150,
   "outputs": [
    {
     "data": {
      "text/plain": "['../pomiary/F10/f10_3p.xlsx',\n '../pomiary/F10/f10_2z.xlsx',\n '../pomiary/F10/f10_1p.xlsx',\n '../pomiary/F10/f10_3z.xlsx',\n '../pomiary/F10/f10_2p.xlsx',\n '../pomiary/F10/f10_1z.xlsx']"
     },
     "execution_count": 150,
     "metadata": {},
     "output_type": "execute_result"
    }
   ],
   "source": [
    "files = glob.glob('../pomiary/F10/f10_[0-9]*.xlsx')\n",
    "files"
   ],
   "metadata": {
    "collapsed": false,
    "ExecuteTime": {
     "start_time": "2023-05-22T18:37:08.170462Z",
     "end_time": "2023-05-22T18:37:08.190597Z"
    }
   }
  },
  {
   "cell_type": "code",
   "execution_count": 151,
   "outputs": [],
   "source": [
    "df1 = pd.read_excel(files[0])\n",
    "df1.sort_values(by='timestamp')\n",
    "df1['before__x'] = df1['reference__x']\n",
    "df1['before__y'] = df1['reference__y']\n",
    "df1['before__x'] = df1.shift(1)['data__coordinates__x']\n",
    "df1['before__y'] = df1.shift(1)['data__coordinates__y']\n",
    "df1['before__x'][0] = df1['data__coordinates__x'][0]\n",
    "df1['before__y'][0] = df1['data__coordinates__y'][0]"
   ],
   "metadata": {
    "collapsed": false,
    "ExecuteTime": {
     "start_time": "2023-05-22T18:37:08.174052Z",
     "end_time": "2023-05-22T18:37:08.567914Z"
    }
   }
  },
  {
   "cell_type": "code",
   "execution_count": 152,
   "outputs": [],
   "source": [
    "df2 = pd.read_excel(files[2])\n",
    "df2.sort_values(by='timestamp')\n",
    "df2['before__x'] = df2['reference__x']\n",
    "df2['before__y'] = df2['reference__y']\n",
    "df2['before__x'] = df2.shift(1)['data__coordinates__x']\n",
    "df2['before__y'] = df2.shift(1)['data__coordinates__y']\n",
    "df2['before__x'][0] = df2['data__coordinates__x'][0]\n",
    "df2['before__y'][0] = df2['data__coordinates__y'][0]"
   ],
   "metadata": {
    "collapsed": false,
    "ExecuteTime": {
     "start_time": "2023-05-22T18:37:08.566362Z",
     "end_time": "2023-05-22T18:37:08.937769Z"
    }
   }
  },
  {
   "cell_type": "code",
   "execution_count": 153,
   "outputs": [],
   "source": [
    "df3 = pd.read_excel(files[3])\n",
    "df3.sort_values(by='timestamp')\n",
    "df3['before__x'] = df3['reference__x']\n",
    "df3['before__y'] = df3['reference__y']\n",
    "df3['before__x'] = df3.shift(1)['data__coordinates__x']\n",
    "df3['before__y'] = df3.shift(1)['data__coordinates__y']\n",
    "df3['before__x'][0] = df3['data__coordinates__x'][0]\n",
    "df3['before__y'][0] = df3['data__coordinates__y'][0]"
   ],
   "metadata": {
    "collapsed": false,
    "ExecuteTime": {
     "start_time": "2023-05-22T18:37:08.936842Z",
     "end_time": "2023-05-22T18:37:09.439271Z"
    }
   }
  },
  {
   "cell_type": "code",
   "execution_count": 154,
   "outputs": [],
   "source": [
    "df4 = pd.read_excel(files[5])\n",
    "df4.sort_values(by='timestamp')\n",
    "df4['before__x'] = df4['reference__x']\n",
    "df4['before__y'] = df4['reference__y']\n",
    "df4['before__x'] = df4.shift(1)['data__coordinates__x']\n",
    "df4['before__y'] = df4.shift(1)['data__coordinates__y']\n",
    "df4['before__x'][0] = df4['data__coordinates__x'][0]\n",
    "df4['before__y'][0] = df4['data__coordinates__y'][0]"
   ],
   "metadata": {
    "collapsed": false,
    "ExecuteTime": {
     "start_time": "2023-05-22T18:37:09.440218Z",
     "end_time": "2023-05-22T18:37:09.840690Z"
    }
   }
  },
  {
   "cell_type": "code",
   "execution_count": 155,
   "outputs": [],
   "source": [
    "df5 = pd.read_excel(files[1])\n",
    "df5.sort_values(by='timestamp')\n",
    "df5['before__x'] = df5['reference__x']\n",
    "df5['before__y'] = df5['reference__y']\n",
    "df5['before__x'] = df5.shift(1)['data__coordinates__x']\n",
    "df5['before__y'] = df5.shift(1)['data__coordinates__y']\n",
    "df5['before__x'][0] = df5['data__coordinates__x'][0]\n",
    "df5['before__y'][0] = df5['data__coordinates__y'][0]"
   ],
   "metadata": {
    "collapsed": false,
    "ExecuteTime": {
     "start_time": "2023-05-22T18:37:09.841468Z",
     "end_time": "2023-05-22T18:37:10.225865Z"
    }
   }
  },
  {
   "cell_type": "code",
   "execution_count": 156,
   "outputs": [],
   "source": [
    "df6 = pd.read_excel(files[4])\n",
    "df6.sort_values(by='timestamp')\n",
    "df6['before__x'] = df6['reference__x']\n",
    "df6['before__y'] = df6['reference__y']\n",
    "df6['before__x'] = df6.shift(1)['data__coordinates__x']\n",
    "df6['before__y'] = df6.shift(1)['data__coordinates__y']\n",
    "df6['before__x'][0] = df6['data__coordinates__x'][0]\n",
    "df6['before__y'][0] = df6['data__coordinates__y'][0]"
   ],
   "metadata": {
    "collapsed": false,
    "ExecuteTime": {
     "start_time": "2023-05-22T18:37:10.226508Z",
     "end_time": "2023-05-22T18:37:10.583153Z"
    }
   }
  },
  {
   "cell_type": "code",
   "execution_count": 157,
   "outputs": [
    {
     "data": {
      "text/plain": "   data__coordinates__x  data__coordinates__y  reference__x  reference__y  \\\n0                  3933                   666   3900.000000         300.0   \n1                  3914                   645   3909.160305         300.0   \n2                  3896                   660   3918.320611         300.0   \n3                  3906                   623   3927.480916         300.0   \n4                  3950                   612   3936.641221         300.0   \n\n   before__x  before__y  \n0     3933.0      666.0  \n1     3933.0      666.0  \n2     3914.0      645.0  \n3     3896.0      660.0  \n4     3906.0      623.0  ",
      "text/html": "<div>\n<style scoped>\n    .dataframe tbody tr th:only-of-type {\n        vertical-align: middle;\n    }\n\n    .dataframe tbody tr th {\n        vertical-align: top;\n    }\n\n    .dataframe thead th {\n        text-align: right;\n    }\n</style>\n<table border=\"1\" class=\"dataframe\">\n  <thead>\n    <tr style=\"text-align: right;\">\n      <th></th>\n      <th>data__coordinates__x</th>\n      <th>data__coordinates__y</th>\n      <th>reference__x</th>\n      <th>reference__y</th>\n      <th>before__x</th>\n      <th>before__y</th>\n    </tr>\n  </thead>\n  <tbody>\n    <tr>\n      <th>0</th>\n      <td>3933</td>\n      <td>666</td>\n      <td>3900.000000</td>\n      <td>300.0</td>\n      <td>3933.0</td>\n      <td>666.0</td>\n    </tr>\n    <tr>\n      <th>1</th>\n      <td>3914</td>\n      <td>645</td>\n      <td>3909.160305</td>\n      <td>300.0</td>\n      <td>3933.0</td>\n      <td>666.0</td>\n    </tr>\n    <tr>\n      <th>2</th>\n      <td>3896</td>\n      <td>660</td>\n      <td>3918.320611</td>\n      <td>300.0</td>\n      <td>3914.0</td>\n      <td>645.0</td>\n    </tr>\n    <tr>\n      <th>3</th>\n      <td>3906</td>\n      <td>623</td>\n      <td>3927.480916</td>\n      <td>300.0</td>\n      <td>3896.0</td>\n      <td>660.0</td>\n    </tr>\n    <tr>\n      <th>4</th>\n      <td>3950</td>\n      <td>612</td>\n      <td>3936.641221</td>\n      <td>300.0</td>\n      <td>3906.0</td>\n      <td>623.0</td>\n    </tr>\n  </tbody>\n</table>\n</div>"
     },
     "execution_count": 157,
     "metadata": {},
     "output_type": "execute_result"
    }
   ],
   "source": [
    "df1[['data__coordinates__x','data__coordinates__y','reference__x','reference__y','before__x','before__y']].head()"
   ],
   "metadata": {
    "collapsed": false,
    "ExecuteTime": {
     "start_time": "2023-05-22T18:37:10.583630Z",
     "end_time": "2023-05-22T18:37:10.588493Z"
    }
   }
  },
  {
   "cell_type": "code",
   "execution_count": 158,
   "outputs": [
    {
     "data": {
      "text/plain": "   data__coordinates__x  data__coordinates__y  reference__x  reference__y  \\\n0                  4109                   583   3900.000000         300.0   \n1                  4142                   576   3909.125475         300.0   \n2                  4106                   595   3918.250951         300.0   \n3                  4156                   651   3927.376426         300.0   \n4                  4109                   653   3936.501901         300.0   \n\n   before__x  before__y  \n0     4109.0      583.0  \n1     4109.0      583.0  \n2     4142.0      576.0  \n3     4106.0      595.0  \n4     4156.0      651.0  ",
      "text/html": "<div>\n<style scoped>\n    .dataframe tbody tr th:only-of-type {\n        vertical-align: middle;\n    }\n\n    .dataframe tbody tr th {\n        vertical-align: top;\n    }\n\n    .dataframe thead th {\n        text-align: right;\n    }\n</style>\n<table border=\"1\" class=\"dataframe\">\n  <thead>\n    <tr style=\"text-align: right;\">\n      <th></th>\n      <th>data__coordinates__x</th>\n      <th>data__coordinates__y</th>\n      <th>reference__x</th>\n      <th>reference__y</th>\n      <th>before__x</th>\n      <th>before__y</th>\n    </tr>\n  </thead>\n  <tbody>\n    <tr>\n      <th>0</th>\n      <td>4109</td>\n      <td>583</td>\n      <td>3900.000000</td>\n      <td>300.0</td>\n      <td>4109.0</td>\n      <td>583.0</td>\n    </tr>\n    <tr>\n      <th>1</th>\n      <td>4142</td>\n      <td>576</td>\n      <td>3909.125475</td>\n      <td>300.0</td>\n      <td>4109.0</td>\n      <td>583.0</td>\n    </tr>\n    <tr>\n      <th>2</th>\n      <td>4106</td>\n      <td>595</td>\n      <td>3918.250951</td>\n      <td>300.0</td>\n      <td>4142.0</td>\n      <td>576.0</td>\n    </tr>\n    <tr>\n      <th>3</th>\n      <td>4156</td>\n      <td>651</td>\n      <td>3927.376426</td>\n      <td>300.0</td>\n      <td>4106.0</td>\n      <td>595.0</td>\n    </tr>\n    <tr>\n      <th>4</th>\n      <td>4109</td>\n      <td>653</td>\n      <td>3936.501901</td>\n      <td>300.0</td>\n      <td>4156.0</td>\n      <td>651.0</td>\n    </tr>\n  </tbody>\n</table>\n</div>"
     },
     "execution_count": 158,
     "metadata": {},
     "output_type": "execute_result"
    }
   ],
   "source": [
    "df2[['data__coordinates__x','data__coordinates__y','reference__x','reference__y','before__x','before__y']].head()"
   ],
   "metadata": {
    "collapsed": false,
    "ExecuteTime": {
     "start_time": "2023-05-22T18:37:10.588976Z",
     "end_time": "2023-05-22T18:37:10.593568Z"
    }
   }
  },
  {
   "cell_type": "code",
   "execution_count": 159,
   "outputs": [
    {
     "data": {
      "text/plain": "   data__coordinates__x  data__coordinates__y  reference__x  reference__y  \\\n0                  4079                   534   3900.000000         300.0   \n1                  4070                   538   3891.078067         300.0   \n2                  4078                   554   3882.156134         300.0   \n3                  4064                   587   3873.234201         300.0   \n4                  4011                   539   3864.312268         300.0   \n\n   before__x  before__y  \n0     4079.0      534.0  \n1     4079.0      534.0  \n2     4070.0      538.0  \n3     4078.0      554.0  \n4     4064.0      587.0  ",
      "text/html": "<div>\n<style scoped>\n    .dataframe tbody tr th:only-of-type {\n        vertical-align: middle;\n    }\n\n    .dataframe tbody tr th {\n        vertical-align: top;\n    }\n\n    .dataframe thead th {\n        text-align: right;\n    }\n</style>\n<table border=\"1\" class=\"dataframe\">\n  <thead>\n    <tr style=\"text-align: right;\">\n      <th></th>\n      <th>data__coordinates__x</th>\n      <th>data__coordinates__y</th>\n      <th>reference__x</th>\n      <th>reference__y</th>\n      <th>before__x</th>\n      <th>before__y</th>\n    </tr>\n  </thead>\n  <tbody>\n    <tr>\n      <th>0</th>\n      <td>4079</td>\n      <td>534</td>\n      <td>3900.000000</td>\n      <td>300.0</td>\n      <td>4079.0</td>\n      <td>534.0</td>\n    </tr>\n    <tr>\n      <th>1</th>\n      <td>4070</td>\n      <td>538</td>\n      <td>3891.078067</td>\n      <td>300.0</td>\n      <td>4079.0</td>\n      <td>534.0</td>\n    </tr>\n    <tr>\n      <th>2</th>\n      <td>4078</td>\n      <td>554</td>\n      <td>3882.156134</td>\n      <td>300.0</td>\n      <td>4070.0</td>\n      <td>538.0</td>\n    </tr>\n    <tr>\n      <th>3</th>\n      <td>4064</td>\n      <td>587</td>\n      <td>3873.234201</td>\n      <td>300.0</td>\n      <td>4078.0</td>\n      <td>554.0</td>\n    </tr>\n    <tr>\n      <th>4</th>\n      <td>4011</td>\n      <td>539</td>\n      <td>3864.312268</td>\n      <td>300.0</td>\n      <td>4064.0</td>\n      <td>587.0</td>\n    </tr>\n  </tbody>\n</table>\n</div>"
     },
     "execution_count": 159,
     "metadata": {},
     "output_type": "execute_result"
    }
   ],
   "source": [
    "df3[['data__coordinates__x','data__coordinates__y','reference__x','reference__y','before__x','before__y']].head()"
   ],
   "metadata": {
    "collapsed": false,
    "ExecuteTime": {
     "start_time": "2023-05-22T18:37:10.594399Z",
     "end_time": "2023-05-22T18:37:10.599050Z"
    }
   }
  },
  {
   "cell_type": "code",
   "execution_count": 160,
   "outputs": [
    {
     "data": {
      "text/plain": "   data__coordinates__x  data__coordinates__y  reference__x  reference__y  \\\n0                  4109                   545   3900.000000         300.0   \n1                  4082                   461   3891.695502         300.0   \n2                  4096                   485   3883.391003         300.0   \n3                  4073                   444   3875.086505         300.0   \n4                  4071                   457   3866.782007         300.0   \n\n   before__x  before__y  \n0     4109.0      545.0  \n1     4109.0      545.0  \n2     4082.0      461.0  \n3     4096.0      485.0  \n4     4073.0      444.0  ",
      "text/html": "<div>\n<style scoped>\n    .dataframe tbody tr th:only-of-type {\n        vertical-align: middle;\n    }\n\n    .dataframe tbody tr th {\n        vertical-align: top;\n    }\n\n    .dataframe thead th {\n        text-align: right;\n    }\n</style>\n<table border=\"1\" class=\"dataframe\">\n  <thead>\n    <tr style=\"text-align: right;\">\n      <th></th>\n      <th>data__coordinates__x</th>\n      <th>data__coordinates__y</th>\n      <th>reference__x</th>\n      <th>reference__y</th>\n      <th>before__x</th>\n      <th>before__y</th>\n    </tr>\n  </thead>\n  <tbody>\n    <tr>\n      <th>0</th>\n      <td>4109</td>\n      <td>545</td>\n      <td>3900.000000</td>\n      <td>300.0</td>\n      <td>4109.0</td>\n      <td>545.0</td>\n    </tr>\n    <tr>\n      <th>1</th>\n      <td>4082</td>\n      <td>461</td>\n      <td>3891.695502</td>\n      <td>300.0</td>\n      <td>4109.0</td>\n      <td>545.0</td>\n    </tr>\n    <tr>\n      <th>2</th>\n      <td>4096</td>\n      <td>485</td>\n      <td>3883.391003</td>\n      <td>300.0</td>\n      <td>4082.0</td>\n      <td>461.0</td>\n    </tr>\n    <tr>\n      <th>3</th>\n      <td>4073</td>\n      <td>444</td>\n      <td>3875.086505</td>\n      <td>300.0</td>\n      <td>4096.0</td>\n      <td>485.0</td>\n    </tr>\n    <tr>\n      <th>4</th>\n      <td>4071</td>\n      <td>457</td>\n      <td>3866.782007</td>\n      <td>300.0</td>\n      <td>4073.0</td>\n      <td>444.0</td>\n    </tr>\n  </tbody>\n</table>\n</div>"
     },
     "execution_count": 160,
     "metadata": {},
     "output_type": "execute_result"
    }
   ],
   "source": [
    "df4[['data__coordinates__x','data__coordinates__y','reference__x','reference__y','before__x','before__y']].head()"
   ],
   "metadata": {
    "collapsed": false,
    "ExecuteTime": {
     "start_time": "2023-05-22T18:37:10.599969Z",
     "end_time": "2023-05-22T18:37:10.613346Z"
    }
   }
  },
  {
   "cell_type": "code",
   "execution_count": 161,
   "outputs": [
    {
     "data": {
      "text/plain": "   data__coordinates__x  data__coordinates__y  reference__x  reference__y  \\\n0                  4107                   590   3900.000000         300.0   \n1                  4067                   583   3890.361446         300.0   \n2                  4028                   608   3880.722892         300.0   \n3                  4032                   582   3871.084337         300.0   \n4                  4009                   597   3861.445783         300.0   \n\n   before__x  before__y  \n0     4107.0      590.0  \n1     4107.0      590.0  \n2     4067.0      583.0  \n3     4028.0      608.0  \n4     4032.0      582.0  ",
      "text/html": "<div>\n<style scoped>\n    .dataframe tbody tr th:only-of-type {\n        vertical-align: middle;\n    }\n\n    .dataframe tbody tr th {\n        vertical-align: top;\n    }\n\n    .dataframe thead th {\n        text-align: right;\n    }\n</style>\n<table border=\"1\" class=\"dataframe\">\n  <thead>\n    <tr style=\"text-align: right;\">\n      <th></th>\n      <th>data__coordinates__x</th>\n      <th>data__coordinates__y</th>\n      <th>reference__x</th>\n      <th>reference__y</th>\n      <th>before__x</th>\n      <th>before__y</th>\n    </tr>\n  </thead>\n  <tbody>\n    <tr>\n      <th>0</th>\n      <td>4107</td>\n      <td>590</td>\n      <td>3900.000000</td>\n      <td>300.0</td>\n      <td>4107.0</td>\n      <td>590.0</td>\n    </tr>\n    <tr>\n      <th>1</th>\n      <td>4067</td>\n      <td>583</td>\n      <td>3890.361446</td>\n      <td>300.0</td>\n      <td>4107.0</td>\n      <td>590.0</td>\n    </tr>\n    <tr>\n      <th>2</th>\n      <td>4028</td>\n      <td>608</td>\n      <td>3880.722892</td>\n      <td>300.0</td>\n      <td>4067.0</td>\n      <td>583.0</td>\n    </tr>\n    <tr>\n      <th>3</th>\n      <td>4032</td>\n      <td>582</td>\n      <td>3871.084337</td>\n      <td>300.0</td>\n      <td>4028.0</td>\n      <td>608.0</td>\n    </tr>\n    <tr>\n      <th>4</th>\n      <td>4009</td>\n      <td>597</td>\n      <td>3861.445783</td>\n      <td>300.0</td>\n      <td>4032.0</td>\n      <td>582.0</td>\n    </tr>\n  </tbody>\n</table>\n</div>"
     },
     "execution_count": 161,
     "metadata": {},
     "output_type": "execute_result"
    }
   ],
   "source": [
    "df5[['data__coordinates__x','data__coordinates__y','reference__x','reference__y','before__x','before__y']].head()"
   ],
   "metadata": {
    "collapsed": false,
    "ExecuteTime": {
     "start_time": "2023-05-22T18:37:10.605174Z",
     "end_time": "2023-05-22T18:37:10.667570Z"
    }
   }
  },
  {
   "cell_type": "code",
   "execution_count": 162,
   "outputs": [
    {
     "data": {
      "text/plain": "   data__coordinates__x  data__coordinates__y  reference__x  reference__y  \\\n0                  3991                   568   3900.000000         300.0   \n1                  4004                   609   3908.219178         300.0   \n2                  3936                   631   3916.438356         300.0   \n3                  3941                   653   3924.657534         300.0   \n4                  4005                   633   3932.876712         300.0   \n\n   before__x  before__y  \n0     3991.0      568.0  \n1     3991.0      568.0  \n2     4004.0      609.0  \n3     3936.0      631.0  \n4     3941.0      653.0  ",
      "text/html": "<div>\n<style scoped>\n    .dataframe tbody tr th:only-of-type {\n        vertical-align: middle;\n    }\n\n    .dataframe tbody tr th {\n        vertical-align: top;\n    }\n\n    .dataframe thead th {\n        text-align: right;\n    }\n</style>\n<table border=\"1\" class=\"dataframe\">\n  <thead>\n    <tr style=\"text-align: right;\">\n      <th></th>\n      <th>data__coordinates__x</th>\n      <th>data__coordinates__y</th>\n      <th>reference__x</th>\n      <th>reference__y</th>\n      <th>before__x</th>\n      <th>before__y</th>\n    </tr>\n  </thead>\n  <tbody>\n    <tr>\n      <th>0</th>\n      <td>3991</td>\n      <td>568</td>\n      <td>3900.000000</td>\n      <td>300.0</td>\n      <td>3991.0</td>\n      <td>568.0</td>\n    </tr>\n    <tr>\n      <th>1</th>\n      <td>4004</td>\n      <td>609</td>\n      <td>3908.219178</td>\n      <td>300.0</td>\n      <td>3991.0</td>\n      <td>568.0</td>\n    </tr>\n    <tr>\n      <th>2</th>\n      <td>3936</td>\n      <td>631</td>\n      <td>3916.438356</td>\n      <td>300.0</td>\n      <td>4004.0</td>\n      <td>609.0</td>\n    </tr>\n    <tr>\n      <th>3</th>\n      <td>3941</td>\n      <td>653</td>\n      <td>3924.657534</td>\n      <td>300.0</td>\n      <td>3936.0</td>\n      <td>631.0</td>\n    </tr>\n    <tr>\n      <th>4</th>\n      <td>4005</td>\n      <td>633</td>\n      <td>3932.876712</td>\n      <td>300.0</td>\n      <td>3941.0</td>\n      <td>653.0</td>\n    </tr>\n  </tbody>\n</table>\n</div>"
     },
     "execution_count": 162,
     "metadata": {},
     "output_type": "execute_result"
    }
   ],
   "source": [
    "df6[['data__coordinates__x','data__coordinates__y','reference__x','reference__y','before__x','before__y']].head()"
   ],
   "metadata": {
    "collapsed": false,
    "ExecuteTime": {
     "start_time": "2023-05-22T18:37:10.615520Z",
     "end_time": "2023-05-22T18:37:10.699542Z"
    }
   }
  },
  {
   "cell_type": "code",
   "execution_count": 163,
   "outputs": [],
   "source": [
    "df_train = pd.concat([df1,df2,df3,df4])\n",
    "df_test = pd.concat([df5,df6])"
   ],
   "metadata": {
    "collapsed": false,
    "ExecuteTime": {
     "start_time": "2023-05-22T18:37:10.618300Z",
     "end_time": "2023-05-22T18:37:10.701776Z"
    }
   }
  },
  {
   "cell_type": "code",
   "execution_count": 164,
   "outputs": [
    {
     "data": {
      "text/plain": "      Unnamed: 0.1  Unnamed: 0  version  alive  tagId  success     timestamp  \\\n0                0           0        1   True  26437     True  1.609322e+09   \n1                1           1        1   True  26437     True  1.609322e+09   \n2                2           2        1   True  26437     True  1.609322e+09   \n3                3           3        1   True  26437     True  1.609322e+09   \n4                4           4        1   True  26437     True  1.609322e+09   \n...            ...         ...      ...    ...    ...      ...           ...   \n2364          2365        2365        1   True  26437     True  1.609322e+09   \n2365          2366        2366        1   True  26437     True  1.609322e+09   \n2366          2367        2367        1   True  26437     True  1.609322e+09   \n2367          2368        2368        1   True  26437     True  1.609322e+09   \n2368          2369        2369        1   True  26437     True  1.609322e+09   \n\n      data__tagData__gyro__x  data__tagData__gyro__y  data__tagData__gyro__z  \\\n0                    -1.9375                  0.0000                -19.1875   \n1                    -8.0000                  7.8750                 25.5625   \n2                     5.1875                 -5.9375                -22.2500   \n3                    -8.6875                 -4.0625                -21.8125   \n4                     1.7500                 -2.0000                 16.0000   \n...                      ...                     ...                     ...   \n2364                 24.0000                  8.9375                 11.6875   \n2365                -20.8125                 -5.9375                  2.4375   \n2366                -18.9375                 -1.1250                  2.6250   \n2367                -19.2500                 -0.5625                -16.6250   \n2368                 19.6250                  3.6875                  6.0000   \n\n      ...  data__metrics__rates__update  data__metrics__rates__success  \\\n0     ...                        27.880                         27.880   \n1     ...                        27.968                         27.968   \n2     ...                        28.065                         28.065   \n3     ...                        28.157                         28.158   \n4     ...                        28.078                         28.077   \n...   ...                           ...                            ...   \n2364  ...                        28.069                         28.069   \n2365  ...                        28.123                         28.123   \n2366  ...                        28.158                         28.158   \n2367  ...                        28.210                         28.210   \n2368  ...                        28.257                         28.257   \n\n      data__coordinates__x  data__coordinates__y  data__coordinates__z  \\\n0                     4107                   590                  1000   \n1                     4067                   583                  1000   \n2                     4028                   608                  1000   \n3                     4032                   582                  1000   \n4                     4009                   597                  1000   \n...                    ...                   ...                   ...   \n2364                  4104                   529                  1000   \n2365                  4065                   544                  1000   \n2366                  4037                   537                  1000   \n2367                  4097                   585                  1000   \n2368                  4131                   672                  1000   \n\n      reference__x  reference__y  before__x  before__y  errorCode  \n0      3900.000000         300.0     4107.0      590.0        NaN  \n1      3890.361446         300.0     4107.0      590.0        NaN  \n2      3880.722892         300.0     4067.0      583.0        NaN  \n3      3871.084337         300.0     4028.0      608.0        NaN  \n4      3861.445783         300.0     4032.0      582.0        NaN  \n...            ...           ...        ...        ...        ...  \n2364   3866.197183         300.0     4060.0      586.0        NaN  \n2365   3874.647887         300.0     4104.0      529.0        NaN  \n2366   3883.098592         300.0     4065.0      544.0        NaN  \n2367   3891.549296         300.0     4037.0      537.0        NaN  \n2368   3900.000000         300.0     4097.0      585.0        NaN  \n\n[4819 rows x 40 columns]",
      "text/html": "<div>\n<style scoped>\n    .dataframe tbody tr th:only-of-type {\n        vertical-align: middle;\n    }\n\n    .dataframe tbody tr th {\n        vertical-align: top;\n    }\n\n    .dataframe thead th {\n        text-align: right;\n    }\n</style>\n<table border=\"1\" class=\"dataframe\">\n  <thead>\n    <tr style=\"text-align: right;\">\n      <th></th>\n      <th>Unnamed: 0.1</th>\n      <th>Unnamed: 0</th>\n      <th>version</th>\n      <th>alive</th>\n      <th>tagId</th>\n      <th>success</th>\n      <th>timestamp</th>\n      <th>data__tagData__gyro__x</th>\n      <th>data__tagData__gyro__y</th>\n      <th>data__tagData__gyro__z</th>\n      <th>...</th>\n      <th>data__metrics__rates__update</th>\n      <th>data__metrics__rates__success</th>\n      <th>data__coordinates__x</th>\n      <th>data__coordinates__y</th>\n      <th>data__coordinates__z</th>\n      <th>reference__x</th>\n      <th>reference__y</th>\n      <th>before__x</th>\n      <th>before__y</th>\n      <th>errorCode</th>\n    </tr>\n  </thead>\n  <tbody>\n    <tr>\n      <th>0</th>\n      <td>0</td>\n      <td>0</td>\n      <td>1</td>\n      <td>True</td>\n      <td>26437</td>\n      <td>True</td>\n      <td>1.609322e+09</td>\n      <td>-1.9375</td>\n      <td>0.0000</td>\n      <td>-19.1875</td>\n      <td>...</td>\n      <td>27.880</td>\n      <td>27.880</td>\n      <td>4107</td>\n      <td>590</td>\n      <td>1000</td>\n      <td>3900.000000</td>\n      <td>300.0</td>\n      <td>4107.0</td>\n      <td>590.0</td>\n      <td>NaN</td>\n    </tr>\n    <tr>\n      <th>1</th>\n      <td>1</td>\n      <td>1</td>\n      <td>1</td>\n      <td>True</td>\n      <td>26437</td>\n      <td>True</td>\n      <td>1.609322e+09</td>\n      <td>-8.0000</td>\n      <td>7.8750</td>\n      <td>25.5625</td>\n      <td>...</td>\n      <td>27.968</td>\n      <td>27.968</td>\n      <td>4067</td>\n      <td>583</td>\n      <td>1000</td>\n      <td>3890.361446</td>\n      <td>300.0</td>\n      <td>4107.0</td>\n      <td>590.0</td>\n      <td>NaN</td>\n    </tr>\n    <tr>\n      <th>2</th>\n      <td>2</td>\n      <td>2</td>\n      <td>1</td>\n      <td>True</td>\n      <td>26437</td>\n      <td>True</td>\n      <td>1.609322e+09</td>\n      <td>5.1875</td>\n      <td>-5.9375</td>\n      <td>-22.2500</td>\n      <td>...</td>\n      <td>28.065</td>\n      <td>28.065</td>\n      <td>4028</td>\n      <td>608</td>\n      <td>1000</td>\n      <td>3880.722892</td>\n      <td>300.0</td>\n      <td>4067.0</td>\n      <td>583.0</td>\n      <td>NaN</td>\n    </tr>\n    <tr>\n      <th>3</th>\n      <td>3</td>\n      <td>3</td>\n      <td>1</td>\n      <td>True</td>\n      <td>26437</td>\n      <td>True</td>\n      <td>1.609322e+09</td>\n      <td>-8.6875</td>\n      <td>-4.0625</td>\n      <td>-21.8125</td>\n      <td>...</td>\n      <td>28.157</td>\n      <td>28.158</td>\n      <td>4032</td>\n      <td>582</td>\n      <td>1000</td>\n      <td>3871.084337</td>\n      <td>300.0</td>\n      <td>4028.0</td>\n      <td>608.0</td>\n      <td>NaN</td>\n    </tr>\n    <tr>\n      <th>4</th>\n      <td>4</td>\n      <td>4</td>\n      <td>1</td>\n      <td>True</td>\n      <td>26437</td>\n      <td>True</td>\n      <td>1.609322e+09</td>\n      <td>1.7500</td>\n      <td>-2.0000</td>\n      <td>16.0000</td>\n      <td>...</td>\n      <td>28.078</td>\n      <td>28.077</td>\n      <td>4009</td>\n      <td>597</td>\n      <td>1000</td>\n      <td>3861.445783</td>\n      <td>300.0</td>\n      <td>4032.0</td>\n      <td>582.0</td>\n      <td>NaN</td>\n    </tr>\n    <tr>\n      <th>...</th>\n      <td>...</td>\n      <td>...</td>\n      <td>...</td>\n      <td>...</td>\n      <td>...</td>\n      <td>...</td>\n      <td>...</td>\n      <td>...</td>\n      <td>...</td>\n      <td>...</td>\n      <td>...</td>\n      <td>...</td>\n      <td>...</td>\n      <td>...</td>\n      <td>...</td>\n      <td>...</td>\n      <td>...</td>\n      <td>...</td>\n      <td>...</td>\n      <td>...</td>\n      <td>...</td>\n    </tr>\n    <tr>\n      <th>2364</th>\n      <td>2365</td>\n      <td>2365</td>\n      <td>1</td>\n      <td>True</td>\n      <td>26437</td>\n      <td>True</td>\n      <td>1.609322e+09</td>\n      <td>24.0000</td>\n      <td>8.9375</td>\n      <td>11.6875</td>\n      <td>...</td>\n      <td>28.069</td>\n      <td>28.069</td>\n      <td>4104</td>\n      <td>529</td>\n      <td>1000</td>\n      <td>3866.197183</td>\n      <td>300.0</td>\n      <td>4060.0</td>\n      <td>586.0</td>\n      <td>NaN</td>\n    </tr>\n    <tr>\n      <th>2365</th>\n      <td>2366</td>\n      <td>2366</td>\n      <td>1</td>\n      <td>True</td>\n      <td>26437</td>\n      <td>True</td>\n      <td>1.609322e+09</td>\n      <td>-20.8125</td>\n      <td>-5.9375</td>\n      <td>2.4375</td>\n      <td>...</td>\n      <td>28.123</td>\n      <td>28.123</td>\n      <td>4065</td>\n      <td>544</td>\n      <td>1000</td>\n      <td>3874.647887</td>\n      <td>300.0</td>\n      <td>4104.0</td>\n      <td>529.0</td>\n      <td>NaN</td>\n    </tr>\n    <tr>\n      <th>2366</th>\n      <td>2367</td>\n      <td>2367</td>\n      <td>1</td>\n      <td>True</td>\n      <td>26437</td>\n      <td>True</td>\n      <td>1.609322e+09</td>\n      <td>-18.9375</td>\n      <td>-1.1250</td>\n      <td>2.6250</td>\n      <td>...</td>\n      <td>28.158</td>\n      <td>28.158</td>\n      <td>4037</td>\n      <td>537</td>\n      <td>1000</td>\n      <td>3883.098592</td>\n      <td>300.0</td>\n      <td>4065.0</td>\n      <td>544.0</td>\n      <td>NaN</td>\n    </tr>\n    <tr>\n      <th>2367</th>\n      <td>2368</td>\n      <td>2368</td>\n      <td>1</td>\n      <td>True</td>\n      <td>26437</td>\n      <td>True</td>\n      <td>1.609322e+09</td>\n      <td>-19.2500</td>\n      <td>-0.5625</td>\n      <td>-16.6250</td>\n      <td>...</td>\n      <td>28.210</td>\n      <td>28.210</td>\n      <td>4097</td>\n      <td>585</td>\n      <td>1000</td>\n      <td>3891.549296</td>\n      <td>300.0</td>\n      <td>4037.0</td>\n      <td>537.0</td>\n      <td>NaN</td>\n    </tr>\n    <tr>\n      <th>2368</th>\n      <td>2369</td>\n      <td>2369</td>\n      <td>1</td>\n      <td>True</td>\n      <td>26437</td>\n      <td>True</td>\n      <td>1.609322e+09</td>\n      <td>19.6250</td>\n      <td>3.6875</td>\n      <td>6.0000</td>\n      <td>...</td>\n      <td>28.257</td>\n      <td>28.257</td>\n      <td>4131</td>\n      <td>672</td>\n      <td>1000</td>\n      <td>3900.000000</td>\n      <td>300.0</td>\n      <td>4097.0</td>\n      <td>585.0</td>\n      <td>NaN</td>\n    </tr>\n  </tbody>\n</table>\n<p>4819 rows × 40 columns</p>\n</div>"
     },
     "execution_count": 164,
     "metadata": {},
     "output_type": "execute_result"
    }
   ],
   "source": [
    "df_test"
   ],
   "metadata": {
    "collapsed": false,
    "ExecuteTime": {
     "start_time": "2023-05-22T18:37:10.624764Z",
     "end_time": "2023-05-22T18:37:10.710307Z"
    }
   }
  },
  {
   "cell_type": "code",
   "execution_count": 165,
   "outputs": [
    {
     "data": {
      "text/plain": "      Unnamed: 0.1  Unnamed: 0  version  alive  tagId  success     timestamp  \\\n0                0           0        1   True  26437     True  1.609322e+09   \n1                1           1        1   True  26437     True  1.609322e+09   \n2                2           2        1   True  26437     True  1.609322e+09   \n3                3           3        1   True  26437     True  1.609322e+09   \n4                4           4        1   True  26437     True  1.609322e+09   \n...            ...         ...      ...    ...    ...      ...           ...   \n2490          2490        2490        1   True  26437     True  1.609323e+09   \n2491          2491        2491        1   True  26437     True  1.609323e+09   \n2492          2492        2492        1   True  26437     True  1.609323e+09   \n2493          2493        2493        1   True  26437     True  1.609323e+09   \n2494          2494        2494        1   True  26437     True  1.609323e+09   \n\n      data__tagData__gyro__x  data__tagData__gyro__y  data__tagData__gyro__z  \\\n0                   -12.4375                 -1.4375                  9.6875   \n1                    -8.5000                 -1.6250                  1.5000   \n2                     8.3750                 -0.3750                  3.0000   \n3                     1.5625                  1.3125                  4.8125   \n4                    -3.6250                  2.5625                 -7.2500   \n...                      ...                     ...                     ...   \n2490                 20.5625                 -9.2500                  0.3750   \n2491                 28.7500                 28.1250                -26.4375   \n2492                 14.0625                 39.5625                -26.3750   \n2493                 16.5000                 26.1250                  8.5000   \n2494                 33.5000                 22.7500                 21.4375   \n\n      ...  data__metrics__rates__update  data__metrics__rates__success  \\\n0     ...                        29.037                         29.037   \n1     ...                        29.081                         29.081   \n2     ...                        29.119                         29.119   \n3     ...                        29.114                         29.114   \n4     ...                        29.150                         29.150   \n...   ...                           ...                            ...   \n2490  ...                        28.180                         28.180   \n2491  ...                        28.268                         28.268   \n2492  ...                        28.230                         28.230   \n2493  ...                        28.244                         28.244   \n2494  ...                        28.261                         28.261   \n\n      data__coordinates__x  data__coordinates__y  data__coordinates__z  \\\n0                     3933                   666                  1000   \n1                     3914                   645                  1000   \n2                     3896                   660                  1000   \n3                     3906                   623                  1000   \n4                     3950                   612                  1000   \n...                    ...                   ...                   ...   \n2490                  3877                   446                  1000   \n2491                  3925                   450                  1000   \n2492                  3996                   310                  1000   \n2493                  3968                   498                  1000   \n2494                  4017                   366                  1000   \n\n      reference__x  reference__y  before__x  before__y  errorCode  \n0      3900.000000         300.0     3933.0      666.0        NaN  \n1      3909.160305         300.0     3933.0      666.0        NaN  \n2      3918.320611         300.0     3914.0      645.0        NaN  \n3      3927.480916         300.0     3896.0      660.0        NaN  \n4      3936.641221         300.0     3906.0      623.0        NaN  \n...            ...           ...        ...        ...        ...  \n2490   3931.578947         300.0     3963.0      557.0        NaN  \n2491   3923.684211         300.0     3877.0      446.0        NaN  \n2492   3915.789474         300.0     3925.0      450.0        NaN  \n2493   3907.894737         300.0     3996.0      310.0        NaN  \n2494   3900.000000         300.0     3968.0      498.0        NaN  \n\n[9723 rows x 40 columns]",
      "text/html": "<div>\n<style scoped>\n    .dataframe tbody tr th:only-of-type {\n        vertical-align: middle;\n    }\n\n    .dataframe tbody tr th {\n        vertical-align: top;\n    }\n\n    .dataframe thead th {\n        text-align: right;\n    }\n</style>\n<table border=\"1\" class=\"dataframe\">\n  <thead>\n    <tr style=\"text-align: right;\">\n      <th></th>\n      <th>Unnamed: 0.1</th>\n      <th>Unnamed: 0</th>\n      <th>version</th>\n      <th>alive</th>\n      <th>tagId</th>\n      <th>success</th>\n      <th>timestamp</th>\n      <th>data__tagData__gyro__x</th>\n      <th>data__tagData__gyro__y</th>\n      <th>data__tagData__gyro__z</th>\n      <th>...</th>\n      <th>data__metrics__rates__update</th>\n      <th>data__metrics__rates__success</th>\n      <th>data__coordinates__x</th>\n      <th>data__coordinates__y</th>\n      <th>data__coordinates__z</th>\n      <th>reference__x</th>\n      <th>reference__y</th>\n      <th>before__x</th>\n      <th>before__y</th>\n      <th>errorCode</th>\n    </tr>\n  </thead>\n  <tbody>\n    <tr>\n      <th>0</th>\n      <td>0</td>\n      <td>0</td>\n      <td>1</td>\n      <td>True</td>\n      <td>26437</td>\n      <td>True</td>\n      <td>1.609322e+09</td>\n      <td>-12.4375</td>\n      <td>-1.4375</td>\n      <td>9.6875</td>\n      <td>...</td>\n      <td>29.037</td>\n      <td>29.037</td>\n      <td>3933</td>\n      <td>666</td>\n      <td>1000</td>\n      <td>3900.000000</td>\n      <td>300.0</td>\n      <td>3933.0</td>\n      <td>666.0</td>\n      <td>NaN</td>\n    </tr>\n    <tr>\n      <th>1</th>\n      <td>1</td>\n      <td>1</td>\n      <td>1</td>\n      <td>True</td>\n      <td>26437</td>\n      <td>True</td>\n      <td>1.609322e+09</td>\n      <td>-8.5000</td>\n      <td>-1.6250</td>\n      <td>1.5000</td>\n      <td>...</td>\n      <td>29.081</td>\n      <td>29.081</td>\n      <td>3914</td>\n      <td>645</td>\n      <td>1000</td>\n      <td>3909.160305</td>\n      <td>300.0</td>\n      <td>3933.0</td>\n      <td>666.0</td>\n      <td>NaN</td>\n    </tr>\n    <tr>\n      <th>2</th>\n      <td>2</td>\n      <td>2</td>\n      <td>1</td>\n      <td>True</td>\n      <td>26437</td>\n      <td>True</td>\n      <td>1.609322e+09</td>\n      <td>8.3750</td>\n      <td>-0.3750</td>\n      <td>3.0000</td>\n      <td>...</td>\n      <td>29.119</td>\n      <td>29.119</td>\n      <td>3896</td>\n      <td>660</td>\n      <td>1000</td>\n      <td>3918.320611</td>\n      <td>300.0</td>\n      <td>3914.0</td>\n      <td>645.0</td>\n      <td>NaN</td>\n    </tr>\n    <tr>\n      <th>3</th>\n      <td>3</td>\n      <td>3</td>\n      <td>1</td>\n      <td>True</td>\n      <td>26437</td>\n      <td>True</td>\n      <td>1.609322e+09</td>\n      <td>1.5625</td>\n      <td>1.3125</td>\n      <td>4.8125</td>\n      <td>...</td>\n      <td>29.114</td>\n      <td>29.114</td>\n      <td>3906</td>\n      <td>623</td>\n      <td>1000</td>\n      <td>3927.480916</td>\n      <td>300.0</td>\n      <td>3896.0</td>\n      <td>660.0</td>\n      <td>NaN</td>\n    </tr>\n    <tr>\n      <th>4</th>\n      <td>4</td>\n      <td>4</td>\n      <td>1</td>\n      <td>True</td>\n      <td>26437</td>\n      <td>True</td>\n      <td>1.609322e+09</td>\n      <td>-3.6250</td>\n      <td>2.5625</td>\n      <td>-7.2500</td>\n      <td>...</td>\n      <td>29.150</td>\n      <td>29.150</td>\n      <td>3950</td>\n      <td>612</td>\n      <td>1000</td>\n      <td>3936.641221</td>\n      <td>300.0</td>\n      <td>3906.0</td>\n      <td>623.0</td>\n      <td>NaN</td>\n    </tr>\n    <tr>\n      <th>...</th>\n      <td>...</td>\n      <td>...</td>\n      <td>...</td>\n      <td>...</td>\n      <td>...</td>\n      <td>...</td>\n      <td>...</td>\n      <td>...</td>\n      <td>...</td>\n      <td>...</td>\n      <td>...</td>\n      <td>...</td>\n      <td>...</td>\n      <td>...</td>\n      <td>...</td>\n      <td>...</td>\n      <td>...</td>\n      <td>...</td>\n      <td>...</td>\n      <td>...</td>\n      <td>...</td>\n    </tr>\n    <tr>\n      <th>2490</th>\n      <td>2490</td>\n      <td>2490</td>\n      <td>1</td>\n      <td>True</td>\n      <td>26437</td>\n      <td>True</td>\n      <td>1.609323e+09</td>\n      <td>20.5625</td>\n      <td>-9.2500</td>\n      <td>0.3750</td>\n      <td>...</td>\n      <td>28.180</td>\n      <td>28.180</td>\n      <td>3877</td>\n      <td>446</td>\n      <td>1000</td>\n      <td>3931.578947</td>\n      <td>300.0</td>\n      <td>3963.0</td>\n      <td>557.0</td>\n      <td>NaN</td>\n    </tr>\n    <tr>\n      <th>2491</th>\n      <td>2491</td>\n      <td>2491</td>\n      <td>1</td>\n      <td>True</td>\n      <td>26437</td>\n      <td>True</td>\n      <td>1.609323e+09</td>\n      <td>28.7500</td>\n      <td>28.1250</td>\n      <td>-26.4375</td>\n      <td>...</td>\n      <td>28.268</td>\n      <td>28.268</td>\n      <td>3925</td>\n      <td>450</td>\n      <td>1000</td>\n      <td>3923.684211</td>\n      <td>300.0</td>\n      <td>3877.0</td>\n      <td>446.0</td>\n      <td>NaN</td>\n    </tr>\n    <tr>\n      <th>2492</th>\n      <td>2492</td>\n      <td>2492</td>\n      <td>1</td>\n      <td>True</td>\n      <td>26437</td>\n      <td>True</td>\n      <td>1.609323e+09</td>\n      <td>14.0625</td>\n      <td>39.5625</td>\n      <td>-26.3750</td>\n      <td>...</td>\n      <td>28.230</td>\n      <td>28.230</td>\n      <td>3996</td>\n      <td>310</td>\n      <td>1000</td>\n      <td>3915.789474</td>\n      <td>300.0</td>\n      <td>3925.0</td>\n      <td>450.0</td>\n      <td>NaN</td>\n    </tr>\n    <tr>\n      <th>2493</th>\n      <td>2493</td>\n      <td>2493</td>\n      <td>1</td>\n      <td>True</td>\n      <td>26437</td>\n      <td>True</td>\n      <td>1.609323e+09</td>\n      <td>16.5000</td>\n      <td>26.1250</td>\n      <td>8.5000</td>\n      <td>...</td>\n      <td>28.244</td>\n      <td>28.244</td>\n      <td>3968</td>\n      <td>498</td>\n      <td>1000</td>\n      <td>3907.894737</td>\n      <td>300.0</td>\n      <td>3996.0</td>\n      <td>310.0</td>\n      <td>NaN</td>\n    </tr>\n    <tr>\n      <th>2494</th>\n      <td>2494</td>\n      <td>2494</td>\n      <td>1</td>\n      <td>True</td>\n      <td>26437</td>\n      <td>True</td>\n      <td>1.609323e+09</td>\n      <td>33.5000</td>\n      <td>22.7500</td>\n      <td>21.4375</td>\n      <td>...</td>\n      <td>28.261</td>\n      <td>28.261</td>\n      <td>4017</td>\n      <td>366</td>\n      <td>1000</td>\n      <td>3900.000000</td>\n      <td>300.0</td>\n      <td>3968.0</td>\n      <td>498.0</td>\n      <td>NaN</td>\n    </tr>\n  </tbody>\n</table>\n<p>9723 rows × 40 columns</p>\n</div>"
     },
     "execution_count": 165,
     "metadata": {},
     "output_type": "execute_result"
    }
   ],
   "source": [
    "df_train"
   ],
   "metadata": {
    "collapsed": false,
    "ExecuteTime": {
     "start_time": "2023-05-22T18:37:10.636083Z",
     "end_time": "2023-05-22T18:37:10.719891Z"
    }
   }
  },
  {
   "cell_type": "code",
   "execution_count": 166,
   "outputs": [],
   "source": [
    "df_train =df_train.drop(['Unnamed: 0','Unnamed: 0.1','alive','success','timestamp','data__anchorData','version','tagId','data__coordinates__z','errorCode','data__tagData__maxLinearAcceleration','data__tagData__pressure'],axis='columns')"
   ],
   "metadata": {
    "collapsed": false,
    "ExecuteTime": {
     "start_time": "2023-05-22T18:37:10.646447Z",
     "end_time": "2023-05-22T18:37:10.719983Z"
    }
   }
  },
  {
   "cell_type": "code",
   "execution_count": 167,
   "outputs": [],
   "source": [
    "df_test =df_test.drop(['Unnamed: 0','Unnamed: 0.1','alive','success','timestamp','data__anchorData','version','tagId','data__coordinates__z','errorCode','data__tagData__maxLinearAcceleration','data__tagData__pressure'],axis='columns')"
   ],
   "metadata": {
    "collapsed": false,
    "ExecuteTime": {
     "start_time": "2023-05-22T18:37:10.649162Z",
     "end_time": "2023-05-22T18:37:10.720015Z"
    }
   }
  },
  {
   "cell_type": "code",
   "execution_count": 168,
   "outputs": [
    {
     "data": {
      "text/plain": "      data__tagData__gyro__x  data__tagData__gyro__y  data__tagData__gyro__z  \\\n0                    -1.9375                  0.0000                -19.1875   \n1                    -8.0000                  7.8750                 25.5625   \n2                     5.1875                 -5.9375                -22.2500   \n3                    -8.6875                 -4.0625                -21.8125   \n4                     1.7500                 -2.0000                 16.0000   \n...                      ...                     ...                     ...   \n2364                 24.0000                  8.9375                 11.6875   \n2365                -20.8125                 -5.9375                  2.4375   \n2366                -18.9375                 -1.1250                  2.6250   \n2367                -19.2500                 -0.5625                -16.6250   \n2368                 19.6250                  3.6875                  6.0000   \n\n      data__tagData__magnetic__x  data__tagData__magnetic__y  \\\n0                        -2.0000                    -13.6875   \n1                        -2.0000                    -13.6875   \n2                        -2.0000                    -12.5625   \n3                        -1.6875                    -12.1875   \n4                        -1.6875                    -12.1875   \n...                          ...                         ...   \n2364                      8.5625                     10.5625   \n2365                      8.5625                     11.2500   \n2366                      9.0000                     11.6875   \n2367                      9.0000                     11.6875   \n2368                      9.5625                     11.5625   \n\n      data__tagData__magnetic__z  data__tagData__quaternion__x  \\\n0                       -49.5625                     -0.041870   \n1                       -49.5625                     -0.042419   \n2                       -50.0000                     -0.042358   \n3                       -48.3750                     -0.041931   \n4                       -48.3750                     -0.044189   \n...                          ...                           ...   \n2364                    -49.5625                     -0.017029   \n2365                    -48.7500                     -0.013611   \n2366                    -50.0625                     -0.013855   \n2367                    -50.0625                     -0.013489   \n2368                    -48.7500                     -0.014038   \n\n      data__tagData__quaternion__y  data__tagData__quaternion__z  \\\n0                         0.011963                      0.994446   \n1                         0.009949                      0.993347   \n2                         0.009399                      0.994019   \n3                         0.008545                      0.994507   \n4                         0.005188                      0.994263   \n...                            ...                           ...   \n2364                     -0.057190                     -0.246094   \n2365                     -0.055542                     -0.245789   \n2366                     -0.056396                     -0.245728   \n2367                     -0.056641                     -0.244080   \n2368                     -0.056274                     -0.244629   \n\n      data__tagData__quaternion__w  ...  data__orientation__pitch  \\\n0                        -0.095764  ...                    -0.032   \n1                        -0.106323  ...                    -0.028   \n2                        -0.100098  ...                    -0.026   \n3                        -0.095642  ...                    -0.024   \n4                        -0.097412  ...                    -0.019   \n...                            ...  ...                       ...   \n2364                     -0.967407  ...                    -0.063   \n2365                     -0.967651  ...                    -0.052   \n2366                     -0.967590  ...                    -0.055   \n2367                     -0.968018  ...                    -0.053   \n2368                     -0.967896  ...                    -0.055   \n\n      data__metrics__latency  data__metrics__rates__update  \\\n0                       36.1                        27.880   \n1                       35.3                        27.968   \n2                       34.6                        28.065   \n3                       37.3                        28.157   \n4                       44.5                        28.078   \n...                      ...                           ...   \n2364                    44.9                        28.069   \n2365                    37.3                        28.123   \n2366                    35.8                        28.158   \n2367                    38.5                        28.210   \n2368                    34.5                        28.257   \n\n      data__metrics__rates__success  data__coordinates__x  \\\n0                            27.880                  4107   \n1                            27.968                  4067   \n2                            28.065                  4028   \n3                            28.158                  4032   \n4                            28.077                  4009   \n...                             ...                   ...   \n2364                         28.069                  4104   \n2365                         28.123                  4065   \n2366                         28.158                  4037   \n2367                         28.210                  4097   \n2368                         28.257                  4131   \n\n      data__coordinates__y  reference__x  reference__y  before__x  before__y  \n0                      590   3900.000000         300.0     4107.0      590.0  \n1                      583   3890.361446         300.0     4107.0      590.0  \n2                      608   3880.722892         300.0     4067.0      583.0  \n3                      582   3871.084337         300.0     4028.0      608.0  \n4                      597   3861.445783         300.0     4032.0      582.0  \n...                    ...           ...           ...        ...        ...  \n2364                   529   3866.197183         300.0     4060.0      586.0  \n2365                   544   3874.647887         300.0     4104.0      529.0  \n2366                   537   3883.098592         300.0     4065.0      544.0  \n2367                   585   3891.549296         300.0     4037.0      537.0  \n2368                   672   3900.000000         300.0     4097.0      585.0  \n\n[4819 rows x 28 columns]",
      "text/html": "<div>\n<style scoped>\n    .dataframe tbody tr th:only-of-type {\n        vertical-align: middle;\n    }\n\n    .dataframe tbody tr th {\n        vertical-align: top;\n    }\n\n    .dataframe thead th {\n        text-align: right;\n    }\n</style>\n<table border=\"1\" class=\"dataframe\">\n  <thead>\n    <tr style=\"text-align: right;\">\n      <th></th>\n      <th>data__tagData__gyro__x</th>\n      <th>data__tagData__gyro__y</th>\n      <th>data__tagData__gyro__z</th>\n      <th>data__tagData__magnetic__x</th>\n      <th>data__tagData__magnetic__y</th>\n      <th>data__tagData__magnetic__z</th>\n      <th>data__tagData__quaternion__x</th>\n      <th>data__tagData__quaternion__y</th>\n      <th>data__tagData__quaternion__z</th>\n      <th>data__tagData__quaternion__w</th>\n      <th>...</th>\n      <th>data__orientation__pitch</th>\n      <th>data__metrics__latency</th>\n      <th>data__metrics__rates__update</th>\n      <th>data__metrics__rates__success</th>\n      <th>data__coordinates__x</th>\n      <th>data__coordinates__y</th>\n      <th>reference__x</th>\n      <th>reference__y</th>\n      <th>before__x</th>\n      <th>before__y</th>\n    </tr>\n  </thead>\n  <tbody>\n    <tr>\n      <th>0</th>\n      <td>-1.9375</td>\n      <td>0.0000</td>\n      <td>-19.1875</td>\n      <td>-2.0000</td>\n      <td>-13.6875</td>\n      <td>-49.5625</td>\n      <td>-0.041870</td>\n      <td>0.011963</td>\n      <td>0.994446</td>\n      <td>-0.095764</td>\n      <td>...</td>\n      <td>-0.032</td>\n      <td>36.1</td>\n      <td>27.880</td>\n      <td>27.880</td>\n      <td>4107</td>\n      <td>590</td>\n      <td>3900.000000</td>\n      <td>300.0</td>\n      <td>4107.0</td>\n      <td>590.0</td>\n    </tr>\n    <tr>\n      <th>1</th>\n      <td>-8.0000</td>\n      <td>7.8750</td>\n      <td>25.5625</td>\n      <td>-2.0000</td>\n      <td>-13.6875</td>\n      <td>-49.5625</td>\n      <td>-0.042419</td>\n      <td>0.009949</td>\n      <td>0.993347</td>\n      <td>-0.106323</td>\n      <td>...</td>\n      <td>-0.028</td>\n      <td>35.3</td>\n      <td>27.968</td>\n      <td>27.968</td>\n      <td>4067</td>\n      <td>583</td>\n      <td>3890.361446</td>\n      <td>300.0</td>\n      <td>4107.0</td>\n      <td>590.0</td>\n    </tr>\n    <tr>\n      <th>2</th>\n      <td>5.1875</td>\n      <td>-5.9375</td>\n      <td>-22.2500</td>\n      <td>-2.0000</td>\n      <td>-12.5625</td>\n      <td>-50.0000</td>\n      <td>-0.042358</td>\n      <td>0.009399</td>\n      <td>0.994019</td>\n      <td>-0.100098</td>\n      <td>...</td>\n      <td>-0.026</td>\n      <td>34.6</td>\n      <td>28.065</td>\n      <td>28.065</td>\n      <td>4028</td>\n      <td>608</td>\n      <td>3880.722892</td>\n      <td>300.0</td>\n      <td>4067.0</td>\n      <td>583.0</td>\n    </tr>\n    <tr>\n      <th>3</th>\n      <td>-8.6875</td>\n      <td>-4.0625</td>\n      <td>-21.8125</td>\n      <td>-1.6875</td>\n      <td>-12.1875</td>\n      <td>-48.3750</td>\n      <td>-0.041931</td>\n      <td>0.008545</td>\n      <td>0.994507</td>\n      <td>-0.095642</td>\n      <td>...</td>\n      <td>-0.024</td>\n      <td>37.3</td>\n      <td>28.157</td>\n      <td>28.158</td>\n      <td>4032</td>\n      <td>582</td>\n      <td>3871.084337</td>\n      <td>300.0</td>\n      <td>4028.0</td>\n      <td>608.0</td>\n    </tr>\n    <tr>\n      <th>4</th>\n      <td>1.7500</td>\n      <td>-2.0000</td>\n      <td>16.0000</td>\n      <td>-1.6875</td>\n      <td>-12.1875</td>\n      <td>-48.3750</td>\n      <td>-0.044189</td>\n      <td>0.005188</td>\n      <td>0.994263</td>\n      <td>-0.097412</td>\n      <td>...</td>\n      <td>-0.019</td>\n      <td>44.5</td>\n      <td>28.078</td>\n      <td>28.077</td>\n      <td>4009</td>\n      <td>597</td>\n      <td>3861.445783</td>\n      <td>300.0</td>\n      <td>4032.0</td>\n      <td>582.0</td>\n    </tr>\n    <tr>\n      <th>...</th>\n      <td>...</td>\n      <td>...</td>\n      <td>...</td>\n      <td>...</td>\n      <td>...</td>\n      <td>...</td>\n      <td>...</td>\n      <td>...</td>\n      <td>...</td>\n      <td>...</td>\n      <td>...</td>\n      <td>...</td>\n      <td>...</td>\n      <td>...</td>\n      <td>...</td>\n      <td>...</td>\n      <td>...</td>\n      <td>...</td>\n      <td>...</td>\n      <td>...</td>\n      <td>...</td>\n    </tr>\n    <tr>\n      <th>2364</th>\n      <td>24.0000</td>\n      <td>8.9375</td>\n      <td>11.6875</td>\n      <td>8.5625</td>\n      <td>10.5625</td>\n      <td>-49.5625</td>\n      <td>-0.017029</td>\n      <td>-0.057190</td>\n      <td>-0.246094</td>\n      <td>-0.967407</td>\n      <td>...</td>\n      <td>-0.063</td>\n      <td>44.9</td>\n      <td>28.069</td>\n      <td>28.069</td>\n      <td>4104</td>\n      <td>529</td>\n      <td>3866.197183</td>\n      <td>300.0</td>\n      <td>4060.0</td>\n      <td>586.0</td>\n    </tr>\n    <tr>\n      <th>2365</th>\n      <td>-20.8125</td>\n      <td>-5.9375</td>\n      <td>2.4375</td>\n      <td>8.5625</td>\n      <td>11.2500</td>\n      <td>-48.7500</td>\n      <td>-0.013611</td>\n      <td>-0.055542</td>\n      <td>-0.245789</td>\n      <td>-0.967651</td>\n      <td>...</td>\n      <td>-0.052</td>\n      <td>37.3</td>\n      <td>28.123</td>\n      <td>28.123</td>\n      <td>4065</td>\n      <td>544</td>\n      <td>3874.647887</td>\n      <td>300.0</td>\n      <td>4104.0</td>\n      <td>529.0</td>\n    </tr>\n    <tr>\n      <th>2366</th>\n      <td>-18.9375</td>\n      <td>-1.1250</td>\n      <td>2.6250</td>\n      <td>9.0000</td>\n      <td>11.6875</td>\n      <td>-50.0625</td>\n      <td>-0.013855</td>\n      <td>-0.056396</td>\n      <td>-0.245728</td>\n      <td>-0.967590</td>\n      <td>...</td>\n      <td>-0.055</td>\n      <td>35.8</td>\n      <td>28.158</td>\n      <td>28.158</td>\n      <td>4037</td>\n      <td>537</td>\n      <td>3883.098592</td>\n      <td>300.0</td>\n      <td>4065.0</td>\n      <td>544.0</td>\n    </tr>\n    <tr>\n      <th>2367</th>\n      <td>-19.2500</td>\n      <td>-0.5625</td>\n      <td>-16.6250</td>\n      <td>9.0000</td>\n      <td>11.6875</td>\n      <td>-50.0625</td>\n      <td>-0.013489</td>\n      <td>-0.056641</td>\n      <td>-0.244080</td>\n      <td>-0.968018</td>\n      <td>...</td>\n      <td>-0.053</td>\n      <td>38.5</td>\n      <td>28.210</td>\n      <td>28.210</td>\n      <td>4097</td>\n      <td>585</td>\n      <td>3891.549296</td>\n      <td>300.0</td>\n      <td>4037.0</td>\n      <td>537.0</td>\n    </tr>\n    <tr>\n      <th>2368</th>\n      <td>19.6250</td>\n      <td>3.6875</td>\n      <td>6.0000</td>\n      <td>9.5625</td>\n      <td>11.5625</td>\n      <td>-48.7500</td>\n      <td>-0.014038</td>\n      <td>-0.056274</td>\n      <td>-0.244629</td>\n      <td>-0.967896</td>\n      <td>...</td>\n      <td>-0.055</td>\n      <td>34.5</td>\n      <td>28.257</td>\n      <td>28.257</td>\n      <td>4131</td>\n      <td>672</td>\n      <td>3900.000000</td>\n      <td>300.0</td>\n      <td>4097.0</td>\n      <td>585.0</td>\n    </tr>\n  </tbody>\n</table>\n<p>4819 rows × 28 columns</p>\n</div>"
     },
     "execution_count": 168,
     "metadata": {},
     "output_type": "execute_result"
    }
   ],
   "source": [
    "df_test"
   ],
   "metadata": {
    "collapsed": false,
    "ExecuteTime": {
     "start_time": "2023-05-22T18:37:10.652351Z",
     "end_time": "2023-05-22T18:37:10.730648Z"
    }
   }
  },
  {
   "cell_type": "code",
   "execution_count": 169,
   "outputs": [],
   "source": [
    "df_columns = df_test.columns.to_list()"
   ],
   "metadata": {
    "collapsed": false,
    "ExecuteTime": {
     "start_time": "2023-05-22T18:37:10.662745Z",
     "end_time": "2023-05-22T18:37:10.730795Z"
    }
   }
  },
  {
   "cell_type": "code",
   "execution_count": 170,
   "outputs": [],
   "source": [
    "df_columns[24],df_columns[26] = df_columns[26],df_columns[24]"
   ],
   "metadata": {
    "collapsed": false,
    "ExecuteTime": {
     "start_time": "2023-05-22T18:37:10.665219Z",
     "end_time": "2023-05-22T18:37:10.734514Z"
    }
   }
  },
  {
   "cell_type": "code",
   "execution_count": 171,
   "outputs": [],
   "source": [
    "df_columns[25],df_columns[27] = df_columns[27],df_columns[25]"
   ],
   "metadata": {
    "collapsed": false,
    "ExecuteTime": {
     "start_time": "2023-05-22T18:37:10.667912Z",
     "end_time": "2023-05-22T18:37:10.741274Z"
    }
   }
  },
  {
   "cell_type": "code",
   "execution_count": 172,
   "outputs": [],
   "source": [
    "df_train2 = df_train[df_columns]"
   ],
   "metadata": {
    "collapsed": false,
    "ExecuteTime": {
     "start_time": "2023-05-22T18:37:10.672868Z",
     "end_time": "2023-05-22T18:37:10.741453Z"
    }
   }
  },
  {
   "cell_type": "code",
   "execution_count": 173,
   "outputs": [],
   "source": [
    "df_test2 = df_test[df_columns]"
   ],
   "metadata": {
    "collapsed": false,
    "ExecuteTime": {
     "start_time": "2023-05-22T18:37:10.676278Z",
     "end_time": "2023-05-22T18:37:10.741526Z"
    }
   }
  },
  {
   "cell_type": "code",
   "execution_count": 174,
   "outputs": [],
   "source": [
    "df_test2.to_csv(\"formatted_df_version2_Train_F10.csv\",index=False)"
   ],
   "metadata": {
    "collapsed": false,
    "ExecuteTime": {
     "start_time": "2023-05-22T18:37:10.679466Z",
     "end_time": "2023-05-22T18:37:10.775527Z"
    }
   }
  },
  {
   "cell_type": "code",
   "execution_count": 175,
   "outputs": [],
   "source": [
    "df_train2.to_csv(\"formatted_df_version2_Test_F10.csv\",index=False)"
   ],
   "metadata": {
    "collapsed": false,
    "ExecuteTime": {
     "start_time": "2023-05-22T18:37:10.724182Z",
     "end_time": "2023-05-22T18:37:10.857135Z"
    }
   }
  }
 ],
 "metadata": {
  "kernelspec": {
   "display_name": "Python 3",
   "language": "python",
   "name": "python3"
  },
  "language_info": {
   "codemirror_mode": {
    "name": "ipython",
    "version": 2
   },
   "file_extension": ".py",
   "mimetype": "text/x-python",
   "name": "python",
   "nbconvert_exporter": "python",
   "pygments_lexer": "ipython2",
   "version": "2.7.6"
  }
 },
 "nbformat": 4,
 "nbformat_minor": 0
}
