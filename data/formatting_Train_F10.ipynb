{
 "cells": [
  {
   "cell_type": "code",
   "execution_count": 1,
   "metadata": {
    "collapsed": true,
    "ExecuteTime": {
     "start_time": "2023-05-23T00:06:14.367418Z",
     "end_time": "2023-05-23T00:06:14.576511Z"
    }
   },
   "outputs": [],
   "source": [
    "import pandas as pd"
   ]
  },
  {
   "cell_type": "code",
   "execution_count": 2,
   "outputs": [],
   "source": [
    "df = pd.read_csv('single_df_Train_F10.csv')"
   ],
   "metadata": {
    "collapsed": false,
    "ExecuteTime": {
     "start_time": "2023-05-23T00:06:22.293114Z",
     "end_time": "2023-05-23T00:06:22.421593Z"
    }
   }
  },
  {
   "cell_type": "code",
   "execution_count": 3,
   "outputs": [
    {
     "name": "stdout",
     "output_type": "stream",
     "text": [
      "<class 'pandas.core.frame.DataFrame'>\n",
      "RangeIndex: 70424 entries, 0 to 70423\n",
      "Data columns (total 38 columns):\n",
      " #   Column                                Non-Null Count  Dtype  \n",
      "---  ------                                --------------  -----  \n",
      " 0   Unnamed: 0.1                          70424 non-null  int64  \n",
      " 1   Unnamed: 0                            70424 non-null  int64  \n",
      " 2   version                               70424 non-null  int64  \n",
      " 3   alive                                 70424 non-null  bool   \n",
      " 4   tagId                                 70424 non-null  int64  \n",
      " 5   success                               70424 non-null  bool   \n",
      " 6   timestamp                             70424 non-null  float64\n",
      " 7   data__tagData__gyro__x                70424 non-null  float64\n",
      " 8   data__tagData__gyro__y                70424 non-null  float64\n",
      " 9   data__tagData__gyro__z                70424 non-null  float64\n",
      " 10  data__tagData__magnetic__x            70424 non-null  float64\n",
      " 11  data__tagData__magnetic__y            70424 non-null  float64\n",
      " 12  data__tagData__magnetic__z            70424 non-null  float64\n",
      " 13  data__tagData__quaternion__x          70424 non-null  float64\n",
      " 14  data__tagData__quaternion__y          70424 non-null  float64\n",
      " 15  data__tagData__quaternion__z          70424 non-null  float64\n",
      " 16  data__tagData__quaternion__w          70424 non-null  float64\n",
      " 17  data__tagData__linearAcceleration__x  70424 non-null  float64\n",
      " 18  data__tagData__linearAcceleration__y  70424 non-null  float64\n",
      " 19  data__tagData__linearAcceleration__z  70424 non-null  float64\n",
      " 20  data__tagData__pressure               70424 non-null  float64\n",
      " 21  data__tagData__maxLinearAcceleration  70424 non-null  float64\n",
      " 22  data__anchorData                      70424 non-null  object \n",
      " 23  data__acceleration__x                 70424 non-null  float64\n",
      " 24  data__acceleration__y                 70424 non-null  float64\n",
      " 25  data__acceleration__z                 70424 non-null  float64\n",
      " 26  data__orientation__yaw                70424 non-null  float64\n",
      " 27  data__orientation__roll               70424 non-null  float64\n",
      " 28  data__orientation__pitch              70424 non-null  float64\n",
      " 29  data__metrics__latency                70424 non-null  float64\n",
      " 30  data__metrics__rates__update          70424 non-null  float64\n",
      " 31  data__metrics__rates__success         70424 non-null  float64\n",
      " 32  data__coordinates__x                  70424 non-null  float64\n",
      " 33  data__coordinates__y                  70424 non-null  float64\n",
      " 34  data__coordinates__z                  70424 non-null  float64\n",
      " 35  reference__x                          70424 non-null  int64  \n",
      " 36  reference__y                          70424 non-null  int64  \n",
      " 37  errorCode                             0 non-null      float64\n",
      "dtypes: bool(2), float64(29), int64(6), object(1)\n",
      "memory usage: 19.5+ MB\n"
     ]
    }
   ],
   "source": [
    "df.info()"
   ],
   "metadata": {
    "collapsed": false,
    "ExecuteTime": {
     "start_time": "2023-05-23T00:06:28.258177Z",
     "end_time": "2023-05-23T00:06:28.278465Z"
    }
   }
  },
  {
   "cell_type": "code",
   "execution_count": 4,
   "outputs": [
    {
     "name": "stdout",
     "output_type": "stream",
     "text": [
      "[ True]\n",
      "[ True]\n"
     ]
    }
   ],
   "source": [
    "print(df['success'].unique())\n",
    "print(df['alive'].unique())"
   ],
   "metadata": {
    "collapsed": false,
    "ExecuteTime": {
     "start_time": "2023-05-23T00:06:52.129701Z",
     "end_time": "2023-05-23T00:06:52.134428Z"
    }
   }
  },
  {
   "cell_type": "code",
   "execution_count": 4,
   "outputs": [],
   "source": [
    "df =df.drop(['Unnamed: 0','Unnamed: 0.1','alive','success','timestamp','data__anchorData','version','tagId','data__coordinates__z','errorCode','data__tagData__maxLinearAcceleration','data__tagData__pressure'],axis='columns')"
   ],
   "metadata": {
    "collapsed": false,
    "ExecuteTime": {
     "start_time": "2023-05-22T15:14:58.138523Z",
     "end_time": "2023-05-22T15:14:58.144496Z"
    }
   }
  },
  {
   "cell_type": "code",
   "execution_count": 5,
   "outputs": [
    {
     "data": {
      "text/plain": "       data__tagData__gyro__x  data__tagData__gyro__y  data__tagData__gyro__z  \\\n0                      0.0625                  0.0000                  0.0625   \n1                     -0.0625                 -0.0625                  0.0625   \n2                      0.1250                  0.0000                 -0.0625   \n3                     -0.0625                  0.0000                  0.0625   \n4                      0.0000                 -0.1250                 -0.0625   \n...                       ...                     ...                     ...   \n70419                  0.1250                 -0.1875                  0.0000   \n70420                  0.0000                 -0.1875                  0.0000   \n70421                  0.0000                 -0.0625                  0.0625   \n70422                  0.1250                 -0.1250                  0.0625   \n70423                  0.0000                 -0.0625                  0.0000   \n\n       data__tagData__magnetic__x  data__tagData__magnetic__y  \\\n0                          3.7500                    -13.0000   \n1                          3.7500                    -13.0000   \n2                          3.0000                    -13.3750   \n3                          3.0000                    -13.0000   \n4                          3.3750                    -13.6875   \n...                           ...                         ...   \n70419                      0.6875                    -12.2500   \n70420                      0.6875                    -12.2500   \n70421                      1.0625                    -12.2500   \n70422                      1.0625                    -12.5625   \n70423                      1.0625                    -12.5625   \n\n       data__tagData__magnetic__z  data__tagData__quaternion__x  \\\n0                        -29.3750                     -0.045959   \n1                        -29.3750                     -0.045959   \n2                        -31.0625                     -0.045959   \n3                        -30.2500                     -0.045959   \n4                        -31.5000                     -0.045959   \n...                           ...                           ...   \n70419                    -52.6875                      0.056641   \n70420                    -52.6875                      0.056641   \n70421                    -51.5000                      0.056641   \n70422                    -53.5625                      0.056641   \n70423                    -53.5625                      0.056641   \n\n       data__tagData__quaternion__y  data__tagData__quaternion__z  \\\n0                          0.014465                      0.998291   \n1                          0.014465                      0.998291   \n2                          0.014404                      0.998291   \n3                          0.014343                      0.998352   \n4                          0.014343                      0.998352   \n...                             ...                           ...   \n70419                     -0.007996                     -0.979248   \n70420                     -0.007996                     -0.979248   \n70421                     -0.007996                     -0.979248   \n70422                     -0.007996                     -0.979248   \n70423                     -0.007996                     -0.979248   \n\n       data__tagData__quaternion__w  ...  data__orientation__yaw  \\\n0                          0.033691  ...                   3.208   \n1                          0.033691  ...                   3.208   \n2                          0.032715  ...                   3.207   \n3                          0.032043  ...                   3.205   \n4                          0.031799  ...                   3.205   \n...                             ...  ...                     ...   \n70419                      0.194458  ...                   2.749   \n70420                      0.194458  ...                   2.749   \n70421                      0.194458  ...                   2.749   \n70422                      0.194458  ...                   2.749   \n70423                      0.194458  ...                   2.749   \n\n       data__orientation__roll  data__orientation__pitch  \\\n0                       -0.093                    -0.025   \n1                       -0.093                    -0.025   \n2                       -0.093                    -0.025   \n3                       -0.093                    -0.025   \n4                       -0.093                    -0.025   \n...                        ...                       ...   \n70419                   -0.108                    -0.037   \n70420                   -0.108                    -0.037   \n70421                   -0.108                    -0.037   \n70422                   -0.108                    -0.037   \n70423                   -0.108                    -0.037   \n\n       data__metrics__latency  data__metrics__rates__update  \\\n0                        35.8                        28.514   \n1                        50.3                        28.436   \n2                        36.8                        28.242   \n3                        35.6                        28.309   \n4                        34.9                        28.395   \n...                       ...                           ...   \n70419                    39.6                        28.074   \n70420                    42.7                        28.103   \n70421                    33.6                        28.135   \n70422                    35.3                        28.243   \n70423                    34.9                        28.329   \n\n       data__metrics__rates__success  data__coordinates__x  \\\n0                             28.514                4425.0   \n1                             28.436                4439.0   \n2                             28.242                4430.0   \n3                             28.309                4469.0   \n4                             28.395                4430.0   \n...                              ...                   ...   \n70419                         27.911                7087.0   \n70420                         27.945                7125.0   \n70421                         27.983                7086.0   \n70422                         28.096                7103.0   \n70423                         28.187                7121.0   \n\n       data__coordinates__y  reference__x  reference__y  \n0                     792.0          4500           600  \n1                     811.0          4500           600  \n2                     832.0          4500           600  \n3                     806.0          4500           600  \n4                     797.0          4500           600  \n...                     ...           ...           ...  \n70419                2670.0          7200          2400  \n70420                3018.0          7200          2400  \n70421                2713.0          7200          2400  \n70422                2640.0          7200          2400  \n70423                2575.0          7200          2400  \n\n[70424 rows x 26 columns]",
      "text/html": "<div>\n<style scoped>\n    .dataframe tbody tr th:only-of-type {\n        vertical-align: middle;\n    }\n\n    .dataframe tbody tr th {\n        vertical-align: top;\n    }\n\n    .dataframe thead th {\n        text-align: right;\n    }\n</style>\n<table border=\"1\" class=\"dataframe\">\n  <thead>\n    <tr style=\"text-align: right;\">\n      <th></th>\n      <th>data__tagData__gyro__x</th>\n      <th>data__tagData__gyro__y</th>\n      <th>data__tagData__gyro__z</th>\n      <th>data__tagData__magnetic__x</th>\n      <th>data__tagData__magnetic__y</th>\n      <th>data__tagData__magnetic__z</th>\n      <th>data__tagData__quaternion__x</th>\n      <th>data__tagData__quaternion__y</th>\n      <th>data__tagData__quaternion__z</th>\n      <th>data__tagData__quaternion__w</th>\n      <th>...</th>\n      <th>data__orientation__yaw</th>\n      <th>data__orientation__roll</th>\n      <th>data__orientation__pitch</th>\n      <th>data__metrics__latency</th>\n      <th>data__metrics__rates__update</th>\n      <th>data__metrics__rates__success</th>\n      <th>data__coordinates__x</th>\n      <th>data__coordinates__y</th>\n      <th>reference__x</th>\n      <th>reference__y</th>\n    </tr>\n  </thead>\n  <tbody>\n    <tr>\n      <th>0</th>\n      <td>0.0625</td>\n      <td>0.0000</td>\n      <td>0.0625</td>\n      <td>3.7500</td>\n      <td>-13.0000</td>\n      <td>-29.3750</td>\n      <td>-0.045959</td>\n      <td>0.014465</td>\n      <td>0.998291</td>\n      <td>0.033691</td>\n      <td>...</td>\n      <td>3.208</td>\n      <td>-0.093</td>\n      <td>-0.025</td>\n      <td>35.8</td>\n      <td>28.514</td>\n      <td>28.514</td>\n      <td>4425.0</td>\n      <td>792.0</td>\n      <td>4500</td>\n      <td>600</td>\n    </tr>\n    <tr>\n      <th>1</th>\n      <td>-0.0625</td>\n      <td>-0.0625</td>\n      <td>0.0625</td>\n      <td>3.7500</td>\n      <td>-13.0000</td>\n      <td>-29.3750</td>\n      <td>-0.045959</td>\n      <td>0.014465</td>\n      <td>0.998291</td>\n      <td>0.033691</td>\n      <td>...</td>\n      <td>3.208</td>\n      <td>-0.093</td>\n      <td>-0.025</td>\n      <td>50.3</td>\n      <td>28.436</td>\n      <td>28.436</td>\n      <td>4439.0</td>\n      <td>811.0</td>\n      <td>4500</td>\n      <td>600</td>\n    </tr>\n    <tr>\n      <th>2</th>\n      <td>0.1250</td>\n      <td>0.0000</td>\n      <td>-0.0625</td>\n      <td>3.0000</td>\n      <td>-13.3750</td>\n      <td>-31.0625</td>\n      <td>-0.045959</td>\n      <td>0.014404</td>\n      <td>0.998291</td>\n      <td>0.032715</td>\n      <td>...</td>\n      <td>3.207</td>\n      <td>-0.093</td>\n      <td>-0.025</td>\n      <td>36.8</td>\n      <td>28.242</td>\n      <td>28.242</td>\n      <td>4430.0</td>\n      <td>832.0</td>\n      <td>4500</td>\n      <td>600</td>\n    </tr>\n    <tr>\n      <th>3</th>\n      <td>-0.0625</td>\n      <td>0.0000</td>\n      <td>0.0625</td>\n      <td>3.0000</td>\n      <td>-13.0000</td>\n      <td>-30.2500</td>\n      <td>-0.045959</td>\n      <td>0.014343</td>\n      <td>0.998352</td>\n      <td>0.032043</td>\n      <td>...</td>\n      <td>3.205</td>\n      <td>-0.093</td>\n      <td>-0.025</td>\n      <td>35.6</td>\n      <td>28.309</td>\n      <td>28.309</td>\n      <td>4469.0</td>\n      <td>806.0</td>\n      <td>4500</td>\n      <td>600</td>\n    </tr>\n    <tr>\n      <th>4</th>\n      <td>0.0000</td>\n      <td>-0.1250</td>\n      <td>-0.0625</td>\n      <td>3.3750</td>\n      <td>-13.6875</td>\n      <td>-31.5000</td>\n      <td>-0.045959</td>\n      <td>0.014343</td>\n      <td>0.998352</td>\n      <td>0.031799</td>\n      <td>...</td>\n      <td>3.205</td>\n      <td>-0.093</td>\n      <td>-0.025</td>\n      <td>34.9</td>\n      <td>28.395</td>\n      <td>28.395</td>\n      <td>4430.0</td>\n      <td>797.0</td>\n      <td>4500</td>\n      <td>600</td>\n    </tr>\n    <tr>\n      <th>...</th>\n      <td>...</td>\n      <td>...</td>\n      <td>...</td>\n      <td>...</td>\n      <td>...</td>\n      <td>...</td>\n      <td>...</td>\n      <td>...</td>\n      <td>...</td>\n      <td>...</td>\n      <td>...</td>\n      <td>...</td>\n      <td>...</td>\n      <td>...</td>\n      <td>...</td>\n      <td>...</td>\n      <td>...</td>\n      <td>...</td>\n      <td>...</td>\n      <td>...</td>\n      <td>...</td>\n    </tr>\n    <tr>\n      <th>70419</th>\n      <td>0.1250</td>\n      <td>-0.1875</td>\n      <td>0.0000</td>\n      <td>0.6875</td>\n      <td>-12.2500</td>\n      <td>-52.6875</td>\n      <td>0.056641</td>\n      <td>-0.007996</td>\n      <td>-0.979248</td>\n      <td>0.194458</td>\n      <td>...</td>\n      <td>2.749</td>\n      <td>-0.108</td>\n      <td>-0.037</td>\n      <td>39.6</td>\n      <td>28.074</td>\n      <td>27.911</td>\n      <td>7087.0</td>\n      <td>2670.0</td>\n      <td>7200</td>\n      <td>2400</td>\n    </tr>\n    <tr>\n      <th>70420</th>\n      <td>0.0000</td>\n      <td>-0.1875</td>\n      <td>0.0000</td>\n      <td>0.6875</td>\n      <td>-12.2500</td>\n      <td>-52.6875</td>\n      <td>0.056641</td>\n      <td>-0.007996</td>\n      <td>-0.979248</td>\n      <td>0.194458</td>\n      <td>...</td>\n      <td>2.749</td>\n      <td>-0.108</td>\n      <td>-0.037</td>\n      <td>42.7</td>\n      <td>28.103</td>\n      <td>27.945</td>\n      <td>7125.0</td>\n      <td>3018.0</td>\n      <td>7200</td>\n      <td>2400</td>\n    </tr>\n    <tr>\n      <th>70421</th>\n      <td>0.0000</td>\n      <td>-0.0625</td>\n      <td>0.0625</td>\n      <td>1.0625</td>\n      <td>-12.2500</td>\n      <td>-51.5000</td>\n      <td>0.056641</td>\n      <td>-0.007996</td>\n      <td>-0.979248</td>\n      <td>0.194458</td>\n      <td>...</td>\n      <td>2.749</td>\n      <td>-0.108</td>\n      <td>-0.037</td>\n      <td>33.6</td>\n      <td>28.135</td>\n      <td>27.983</td>\n      <td>7086.0</td>\n      <td>2713.0</td>\n      <td>7200</td>\n      <td>2400</td>\n    </tr>\n    <tr>\n      <th>70422</th>\n      <td>0.1250</td>\n      <td>-0.1250</td>\n      <td>0.0625</td>\n      <td>1.0625</td>\n      <td>-12.5625</td>\n      <td>-53.5625</td>\n      <td>0.056641</td>\n      <td>-0.007996</td>\n      <td>-0.979248</td>\n      <td>0.194458</td>\n      <td>...</td>\n      <td>2.749</td>\n      <td>-0.108</td>\n      <td>-0.037</td>\n      <td>35.3</td>\n      <td>28.243</td>\n      <td>28.096</td>\n      <td>7103.0</td>\n      <td>2640.0</td>\n      <td>7200</td>\n      <td>2400</td>\n    </tr>\n    <tr>\n      <th>70423</th>\n      <td>0.0000</td>\n      <td>-0.0625</td>\n      <td>0.0000</td>\n      <td>1.0625</td>\n      <td>-12.5625</td>\n      <td>-53.5625</td>\n      <td>0.056641</td>\n      <td>-0.007996</td>\n      <td>-0.979248</td>\n      <td>0.194458</td>\n      <td>...</td>\n      <td>2.749</td>\n      <td>-0.108</td>\n      <td>-0.037</td>\n      <td>34.9</td>\n      <td>28.329</td>\n      <td>28.187</td>\n      <td>7121.0</td>\n      <td>2575.0</td>\n      <td>7200</td>\n      <td>2400</td>\n    </tr>\n  </tbody>\n</table>\n<p>70424 rows × 26 columns</p>\n</div>"
     },
     "execution_count": 5,
     "metadata": {},
     "output_type": "execute_result"
    }
   ],
   "source": [
    "df"
   ],
   "metadata": {
    "collapsed": false,
    "ExecuteTime": {
     "start_time": "2023-05-22T15:15:01.424793Z",
     "end_time": "2023-05-22T15:15:01.447747Z"
    }
   }
  },
  {
   "cell_type": "code",
   "execution_count": 6,
   "outputs": [],
   "source": [
    "df.to_csv('formatted_df_Train_F10.csv',index=False)"
   ],
   "metadata": {
    "collapsed": false,
    "ExecuteTime": {
     "start_time": "2023-05-22T15:15:03.481241Z",
     "end_time": "2023-05-22T15:15:04.041867Z"
    }
   }
  },
  {
   "cell_type": "code",
   "execution_count": null,
   "outputs": [],
   "source": [],
   "metadata": {
    "collapsed": false
   }
  }
 ],
 "metadata": {
  "kernelspec": {
   "display_name": "Python 3",
   "language": "python",
   "name": "python3"
  },
  "language_info": {
   "codemirror_mode": {
    "name": "ipython",
    "version": 2
   },
   "file_extension": ".py",
   "mimetype": "text/x-python",
   "name": "python",
   "nbconvert_exporter": "python",
   "pygments_lexer": "ipython2",
   "version": "2.7.6"
  }
 },
 "nbformat": 4,
 "nbformat_minor": 0
}
