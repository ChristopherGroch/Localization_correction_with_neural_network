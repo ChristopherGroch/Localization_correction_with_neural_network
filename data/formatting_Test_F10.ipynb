{
 "cells": [
  {
   "cell_type": "code",
   "execution_count": 1,
   "metadata": {
    "collapsed": true,
    "ExecuteTime": {
     "start_time": "2023-05-23T00:04:50.375611Z",
     "end_time": "2023-05-23T00:04:50.597492Z"
    }
   },
   "outputs": [],
   "source": [
    "import pandas as pd"
   ]
  },
  {
   "cell_type": "code",
   "execution_count": 6,
   "outputs": [],
   "source": [
    "df = pd.read_csv('single_df_Test_F10.csv')"
   ],
   "metadata": {
    "collapsed": false,
    "ExecuteTime": {
     "start_time": "2023-05-23T00:05:31.591601Z",
     "end_time": "2023-05-23T00:05:31.632777Z"
    }
   }
  },
  {
   "cell_type": "code",
   "execution_count": 7,
   "outputs": [
    {
     "name": "stdout",
     "output_type": "stream",
     "text": [
      "<class 'pandas.core.frame.DataFrame'>\n",
      "RangeIndex: 14542 entries, 0 to 14541\n",
      "Data columns (total 38 columns):\n",
      " #   Column                                Non-Null Count  Dtype  \n",
      "---  ------                                --------------  -----  \n",
      " 0   Unnamed: 0.1                          14542 non-null  int64  \n",
      " 1   Unnamed: 0                            14542 non-null  int64  \n",
      " 2   version                               14542 non-null  int64  \n",
      " 3   alive                                 14542 non-null  bool   \n",
      " 4   tagId                                 14542 non-null  int64  \n",
      " 5   success                               14542 non-null  bool   \n",
      " 6   timestamp                             14542 non-null  float64\n",
      " 7   data__tagData__gyro__x                14542 non-null  float64\n",
      " 8   data__tagData__gyro__y                14542 non-null  float64\n",
      " 9   data__tagData__gyro__z                14542 non-null  float64\n",
      " 10  data__tagData__magnetic__x            14542 non-null  float64\n",
      " 11  data__tagData__magnetic__y            14542 non-null  float64\n",
      " 12  data__tagData__magnetic__z            14542 non-null  float64\n",
      " 13  data__tagData__quaternion__x          14542 non-null  float64\n",
      " 14  data__tagData__quaternion__y          14542 non-null  float64\n",
      " 15  data__tagData__quaternion__z          14542 non-null  float64\n",
      " 16  data__tagData__quaternion__w          14542 non-null  float64\n",
      " 17  data__tagData__linearAcceleration__x  14542 non-null  int64  \n",
      " 18  data__tagData__linearAcceleration__y  14542 non-null  int64  \n",
      " 19  data__tagData__linearAcceleration__z  14542 non-null  int64  \n",
      " 20  data__tagData__pressure               14542 non-null  int64  \n",
      " 21  data__tagData__maxLinearAcceleration  14542 non-null  int64  \n",
      " 22  data__anchorData                      14542 non-null  object \n",
      " 23  data__acceleration__x                 14542 non-null  int64  \n",
      " 24  data__acceleration__y                 14542 non-null  int64  \n",
      " 25  data__acceleration__z                 14542 non-null  int64  \n",
      " 26  data__orientation__yaw                14542 non-null  float64\n",
      " 27  data__orientation__roll               14542 non-null  float64\n",
      " 28  data__orientation__pitch              14542 non-null  float64\n",
      " 29  data__metrics__latency                14542 non-null  float64\n",
      " 30  data__metrics__rates__update          14542 non-null  float64\n",
      " 31  data__metrics__rates__success         14542 non-null  float64\n",
      " 32  data__coordinates__x                  14542 non-null  int64  \n",
      " 33  data__coordinates__y                  14542 non-null  int64  \n",
      " 34  data__coordinates__z                  14542 non-null  int64  \n",
      " 35  reference__x                          14542 non-null  float64\n",
      " 36  reference__y                          14542 non-null  float64\n",
      " 37  errorCode                             0 non-null      float64\n",
      "dtypes: bool(2), float64(20), int64(15), object(1)\n",
      "memory usage: 4.0+ MB\n"
     ]
    }
   ],
   "source": [
    "df.info()"
   ],
   "metadata": {
    "collapsed": false,
    "ExecuteTime": {
     "start_time": "2023-05-23T00:05:31.936137Z",
     "end_time": "2023-05-23T00:05:31.951248Z"
    }
   }
  },
  {
   "cell_type": "code",
   "execution_count": 8,
   "outputs": [
    {
     "name": "stdout",
     "output_type": "stream",
     "text": [
      "[ True]\n",
      "[ True]\n"
     ]
    }
   ],
   "source": [
    "print(df['success'].unique())\n",
    "print(df['alive'].unique())"
   ],
   "metadata": {
    "collapsed": false,
    "ExecuteTime": {
     "start_time": "2023-05-23T00:05:45.207431Z",
     "end_time": "2023-05-23T00:05:45.211722Z"
    }
   }
  },
  {
   "cell_type": "code",
   "execution_count": 3,
   "outputs": [],
   "source": [
    "df =df.drop(['Unnamed: 0','Unnamed: 0.1','alive','success','timestamp','data__anchorData','version','tagId','data__coordinates__z','errorCode','data__tagData__maxLinearAcceleration','data__tagData__pressure'],axis='columns')"
   ],
   "metadata": {
    "collapsed": false,
    "ExecuteTime": {
     "start_time": "2023-05-23T00:04:54.229704Z",
     "end_time": "2023-05-23T00:04:54.231688Z"
    }
   }
  },
  {
   "cell_type": "code",
   "execution_count": 4,
   "outputs": [
    {
     "name": "stdout",
     "output_type": "stream",
     "text": [
      "<class 'pandas.core.frame.DataFrame'>\n",
      "RangeIndex: 14542 entries, 0 to 14541\n",
      "Data columns (total 26 columns):\n",
      " #   Column                                Non-Null Count  Dtype  \n",
      "---  ------                                --------------  -----  \n",
      " 0   data__tagData__gyro__x                14542 non-null  float64\n",
      " 1   data__tagData__gyro__y                14542 non-null  float64\n",
      " 2   data__tagData__gyro__z                14542 non-null  float64\n",
      " 3   data__tagData__magnetic__x            14542 non-null  float64\n",
      " 4   data__tagData__magnetic__y            14542 non-null  float64\n",
      " 5   data__tagData__magnetic__z            14542 non-null  float64\n",
      " 6   data__tagData__quaternion__x          14542 non-null  float64\n",
      " 7   data__tagData__quaternion__y          14542 non-null  float64\n",
      " 8   data__tagData__quaternion__z          14542 non-null  float64\n",
      " 9   data__tagData__quaternion__w          14542 non-null  float64\n",
      " 10  data__tagData__linearAcceleration__x  14542 non-null  int64  \n",
      " 11  data__tagData__linearAcceleration__y  14542 non-null  int64  \n",
      " 12  data__tagData__linearAcceleration__z  14542 non-null  int64  \n",
      " 13  data__acceleration__x                 14542 non-null  int64  \n",
      " 14  data__acceleration__y                 14542 non-null  int64  \n",
      " 15  data__acceleration__z                 14542 non-null  int64  \n",
      " 16  data__orientation__yaw                14542 non-null  float64\n",
      " 17  data__orientation__roll               14542 non-null  float64\n",
      " 18  data__orientation__pitch              14542 non-null  float64\n",
      " 19  data__metrics__latency                14542 non-null  float64\n",
      " 20  data__metrics__rates__update          14542 non-null  float64\n",
      " 21  data__metrics__rates__success         14542 non-null  float64\n",
      " 22  data__coordinates__x                  14542 non-null  int64  \n",
      " 23  data__coordinates__y                  14542 non-null  int64  \n",
      " 24  reference__x                          14542 non-null  float64\n",
      " 25  reference__y                          14542 non-null  float64\n",
      "dtypes: float64(18), int64(8)\n",
      "memory usage: 2.9 MB\n"
     ]
    }
   ],
   "source": [
    "df.info()"
   ],
   "metadata": {
    "collapsed": false,
    "ExecuteTime": {
     "start_time": "2023-05-23T00:04:55.526065Z",
     "end_time": "2023-05-23T00:04:55.536802Z"
    }
   }
  },
  {
   "cell_type": "code",
   "execution_count": 7,
   "outputs": [],
   "source": [
    "df.to_csv('formatted_df_Test_F10.csv',index=False)"
   ],
   "metadata": {
    "collapsed": false,
    "ExecuteTime": {
     "start_time": "2023-05-22T15:10:56.170369Z",
     "end_time": "2023-05-22T15:10:56.300491Z"
    }
   }
  }
 ],
 "metadata": {
  "kernelspec": {
   "display_name": "Python 3",
   "language": "python",
   "name": "python3"
  },
  "language_info": {
   "codemirror_mode": {
    "name": "ipython",
    "version": 2
   },
   "file_extension": ".py",
   "mimetype": "text/x-python",
   "name": "python",
   "nbconvert_exporter": "python",
   "pygments_lexer": "ipython2",
   "version": "2.7.6"
  }
 },
 "nbformat": 4,
 "nbformat_minor": 0
}
