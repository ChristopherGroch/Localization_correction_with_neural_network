{
 "cells": [
  {
   "cell_type": "code",
   "execution_count": 1,
   "metadata": {
    "collapsed": true,
    "ExecuteTime": {
     "start_time": "2023-05-23T12:08:15.231190Z",
     "end_time": "2023-05-23T12:08:15.232822Z"
    }
   },
   "outputs": [],
   "source": [
    "import numpy as np\n",
    "import  pandas as pd"
   ]
  },
  {
   "cell_type": "markdown",
   "source": [],
   "metadata": {
    "collapsed": false
   }
  },
  {
   "cell_type": "code",
   "execution_count": 2,
   "outputs": [
    {
     "name": "stderr",
     "output_type": "stream",
     "text": [
      "/var/folders/cl/snsc2kvj357c9kdnk34nqwkc0000gn/T/ipykernel_37151/597399236.py:1: DtypeWarning: Columns (3,5) have mixed types. Specify dtype option on import or set low_memory=False.\n",
      "  df = pd.read_csv('single_df_Train_F8.csv')\n"
     ]
    }
   ],
   "source": [
    "df = pd.read_csv('single_df_Train_F8.csv')"
   ],
   "metadata": {
    "collapsed": false,
    "ExecuteTime": {
     "start_time": "2023-05-23T12:08:16.622200Z",
     "end_time": "2023-05-23T12:08:16.710440Z"
    }
   }
  },
  {
   "cell_type": "code",
   "execution_count": 3,
   "outputs": [
    {
     "name": "stdout",
     "output_type": "stream",
     "text": [
      "<class 'pandas.core.frame.DataFrame'>\n",
      "RangeIndex: 42469 entries, 0 to 42468\n",
      "Data columns (total 38 columns):\n",
      " #   Column                                Non-Null Count  Dtype  \n",
      "---  ------                                --------------  -----  \n",
      " 0   Unnamed: 0.1                          42469 non-null  int64  \n",
      " 1   Unnamed: 0                            42468 non-null  float64\n",
      " 2   version                               42468 non-null  float64\n",
      " 3   alive                                 42468 non-null  object \n",
      " 4   tagId                                 42468 non-null  float64\n",
      " 5   success                               42468 non-null  object \n",
      " 6   timestamp                             42468 non-null  float64\n",
      " 7   data__tagData__gyro__x                42462 non-null  float64\n",
      " 8   data__tagData__gyro__y                42462 non-null  float64\n",
      " 9   data__tagData__gyro__z                42462 non-null  float64\n",
      " 10  data__tagData__magnetic__x            42462 non-null  float64\n",
      " 11  data__tagData__magnetic__y            42462 non-null  float64\n",
      " 12  data__tagData__magnetic__z            42462 non-null  float64\n",
      " 13  data__tagData__quaternion__x          42462 non-null  float64\n",
      " 14  data__tagData__quaternion__y          42462 non-null  float64\n",
      " 15  data__tagData__quaternion__z          42462 non-null  float64\n",
      " 16  data__tagData__quaternion__w          42462 non-null  float64\n",
      " 17  data__tagData__linearAcceleration__x  42462 non-null  float64\n",
      " 18  data__tagData__linearAcceleration__y  42462 non-null  float64\n",
      " 19  data__tagData__linearAcceleration__z  42462 non-null  float64\n",
      " 20  data__tagData__pressure               42462 non-null  float64\n",
      " 21  data__tagData__maxLinearAcceleration  42462 non-null  float64\n",
      " 22  data__anchorData                      42462 non-null  object \n",
      " 23  data__acceleration__x                 42462 non-null  float64\n",
      " 24  data__acceleration__y                 42462 non-null  float64\n",
      " 25  data__acceleration__z                 42462 non-null  float64\n",
      " 26  data__orientation__yaw                42462 non-null  float64\n",
      " 27  data__orientation__roll               42462 non-null  float64\n",
      " 28  data__orientation__pitch              42462 non-null  float64\n",
      " 29  data__metrics__latency                42462 non-null  float64\n",
      " 30  data__metrics__rates__update          42462 non-null  float64\n",
      " 31  data__metrics__rates__success         42462 non-null  float64\n",
      " 32  data__coordinates__x                  42462 non-null  float64\n",
      " 33  data__coordinates__y                  42462 non-null  float64\n",
      " 34  data__coordinates__z                  41402 non-null  float64\n",
      " 35  reference__x                          42469 non-null  int64  \n",
      " 36  reference__y                          42469 non-null  int64  \n",
      " 37  errorCode                             6 non-null      object \n",
      "dtypes: float64(31), int64(3), object(4)\n",
      "memory usage: 12.3+ MB\n"
     ]
    }
   ],
   "source": [
    "df.info()"
   ],
   "metadata": {
    "collapsed": false,
    "ExecuteTime": {
     "start_time": "2023-05-23T12:08:18.666832Z",
     "end_time": "2023-05-23T12:08:18.692222Z"
    }
   }
  },
  {
   "cell_type": "code",
   "execution_count": 4,
   "outputs": [
    {
     "name": "stdout",
     "output_type": "stream",
     "text": [
      "[True 'True' '1.0' nan]\n"
     ]
    }
   ],
   "source": [
    "print(df['alive'].unique())"
   ],
   "metadata": {
    "collapsed": false,
    "ExecuteTime": {
     "start_time": "2023-05-23T12:08:19.315356Z",
     "end_time": "2023-05-23T12:08:19.318124Z"
    }
   }
  },
  {
   "cell_type": "code",
   "execution_count": 5,
   "outputs": [
    {
     "name": "stdout",
     "output_type": "stream",
     "text": [
      "[True False 'True' '1.0' nan 'False']\n"
     ]
    }
   ],
   "source": [
    "print(df['success'].unique())"
   ],
   "metadata": {
    "collapsed": false,
    "ExecuteTime": {
     "start_time": "2023-05-23T12:08:19.662656Z",
     "end_time": "2023-05-23T12:08:19.665591Z"
    }
   }
  },
  {
   "cell_type": "code",
   "execution_count": 6,
   "outputs": [],
   "source": [
    "df.dropna(subset=['alive'],inplace=True)"
   ],
   "metadata": {
    "collapsed": false,
    "ExecuteTime": {
     "start_time": "2023-05-23T12:08:20.325423Z",
     "end_time": "2023-05-23T12:08:20.333945Z"
    }
   }
  },
  {
   "cell_type": "code",
   "execution_count": 7,
   "outputs": [],
   "source": [
    "df['success'].replace(False,np.nan,inplace=True)\n",
    "df['success'].replace('False',np.nan,inplace=True)\n",
    "df.dropna(subset=['success'],inplace=True)"
   ],
   "metadata": {
    "collapsed": false,
    "ExecuteTime": {
     "start_time": "2023-05-23T12:08:20.803662Z",
     "end_time": "2023-05-23T12:08:20.817548Z"
    }
   }
  },
  {
   "cell_type": "code",
   "execution_count": 8,
   "outputs": [],
   "source": [
    "df.dropna(subset=['success'],inplace=True)"
   ],
   "metadata": {
    "collapsed": false,
    "ExecuteTime": {
     "start_time": "2023-05-23T12:08:21.562318Z",
     "end_time": "2023-05-23T12:08:21.571580Z"
    }
   }
  },
  {
   "cell_type": "code",
   "execution_count": 9,
   "outputs": [
    {
     "name": "stdout",
     "output_type": "stream",
     "text": [
      "<class 'pandas.core.frame.DataFrame'>\n",
      "Int64Index: 42462 entries, 0 to 42468\n",
      "Data columns (total 38 columns):\n",
      " #   Column                                Non-Null Count  Dtype  \n",
      "---  ------                                --------------  -----  \n",
      " 0   Unnamed: 0.1                          42462 non-null  int64  \n",
      " 1   Unnamed: 0                            42462 non-null  float64\n",
      " 2   version                               42462 non-null  float64\n",
      " 3   alive                                 42462 non-null  object \n",
      " 4   tagId                                 42462 non-null  float64\n",
      " 5   success                               42462 non-null  object \n",
      " 6   timestamp                             42462 non-null  float64\n",
      " 7   data__tagData__gyro__x                42462 non-null  float64\n",
      " 8   data__tagData__gyro__y                42462 non-null  float64\n",
      " 9   data__tagData__gyro__z                42462 non-null  float64\n",
      " 10  data__tagData__magnetic__x            42462 non-null  float64\n",
      " 11  data__tagData__magnetic__y            42462 non-null  float64\n",
      " 12  data__tagData__magnetic__z            42462 non-null  float64\n",
      " 13  data__tagData__quaternion__x          42462 non-null  float64\n",
      " 14  data__tagData__quaternion__y          42462 non-null  float64\n",
      " 15  data__tagData__quaternion__z          42462 non-null  float64\n",
      " 16  data__tagData__quaternion__w          42462 non-null  float64\n",
      " 17  data__tagData__linearAcceleration__x  42462 non-null  float64\n",
      " 18  data__tagData__linearAcceleration__y  42462 non-null  float64\n",
      " 19  data__tagData__linearAcceleration__z  42462 non-null  float64\n",
      " 20  data__tagData__pressure               42462 non-null  float64\n",
      " 21  data__tagData__maxLinearAcceleration  42462 non-null  float64\n",
      " 22  data__anchorData                      42462 non-null  object \n",
      " 23  data__acceleration__x                 42462 non-null  float64\n",
      " 24  data__acceleration__y                 42462 non-null  float64\n",
      " 25  data__acceleration__z                 42462 non-null  float64\n",
      " 26  data__orientation__yaw                42462 non-null  float64\n",
      " 27  data__orientation__roll               42462 non-null  float64\n",
      " 28  data__orientation__pitch              42462 non-null  float64\n",
      " 29  data__metrics__latency                42462 non-null  float64\n",
      " 30  data__metrics__rates__update          42462 non-null  float64\n",
      " 31  data__metrics__rates__success         42462 non-null  float64\n",
      " 32  data__coordinates__x                  42462 non-null  float64\n",
      " 33  data__coordinates__y                  42462 non-null  float64\n",
      " 34  data__coordinates__z                  41402 non-null  float64\n",
      " 35  reference__x                          42462 non-null  int64  \n",
      " 36  reference__y                          42462 non-null  int64  \n",
      " 37  errorCode                             0 non-null      object \n",
      "dtypes: float64(31), int64(3), object(4)\n",
      "memory usage: 12.6+ MB\n"
     ]
    }
   ],
   "source": [
    "df.info()"
   ],
   "metadata": {
    "collapsed": false,
    "ExecuteTime": {
     "start_time": "2023-05-23T12:08:22.362971Z",
     "end_time": "2023-05-23T12:08:22.389949Z"
    }
   }
  },
  {
   "cell_type": "code",
   "execution_count": 10,
   "outputs": [],
   "source": [
    "df =df.drop(['Unnamed: 0','Unnamed: 0.1','alive','success','timestamp','data__anchorData','version','tagId','data__coordinates__z','errorCode','data__tagData__maxLinearAcceleration','data__tagData__pressure'],axis='columns')"
   ],
   "metadata": {
    "collapsed": false,
    "ExecuteTime": {
     "start_time": "2023-05-23T12:08:33.658026Z",
     "end_time": "2023-05-23T12:08:33.663284Z"
    }
   }
  },
  {
   "cell_type": "code",
   "execution_count": 11,
   "outputs": [
    {
     "data": {
      "text/plain": "(42462, 26)"
     },
     "execution_count": 11,
     "metadata": {},
     "output_type": "execute_result"
    }
   ],
   "source": [
    "df.shape"
   ],
   "metadata": {
    "collapsed": false,
    "ExecuteTime": {
     "start_time": "2023-05-23T12:08:34.262706Z",
     "end_time": "2023-05-23T12:08:34.266238Z"
    }
   }
  },
  {
   "cell_type": "code",
   "execution_count": 12,
   "outputs": [
    {
     "name": "stdout",
     "output_type": "stream",
     "text": [
      "<class 'pandas.core.frame.DataFrame'>\n",
      "Int64Index: 42462 entries, 0 to 42468\n",
      "Data columns (total 26 columns):\n",
      " #   Column                                Non-Null Count  Dtype  \n",
      "---  ------                                --------------  -----  \n",
      " 0   data__tagData__gyro__x                42462 non-null  float64\n",
      " 1   data__tagData__gyro__y                42462 non-null  float64\n",
      " 2   data__tagData__gyro__z                42462 non-null  float64\n",
      " 3   data__tagData__magnetic__x            42462 non-null  float64\n",
      " 4   data__tagData__magnetic__y            42462 non-null  float64\n",
      " 5   data__tagData__magnetic__z            42462 non-null  float64\n",
      " 6   data__tagData__quaternion__x          42462 non-null  float64\n",
      " 7   data__tagData__quaternion__y          42462 non-null  float64\n",
      " 8   data__tagData__quaternion__z          42462 non-null  float64\n",
      " 9   data__tagData__quaternion__w          42462 non-null  float64\n",
      " 10  data__tagData__linearAcceleration__x  42462 non-null  float64\n",
      " 11  data__tagData__linearAcceleration__y  42462 non-null  float64\n",
      " 12  data__tagData__linearAcceleration__z  42462 non-null  float64\n",
      " 13  data__acceleration__x                 42462 non-null  float64\n",
      " 14  data__acceleration__y                 42462 non-null  float64\n",
      " 15  data__acceleration__z                 42462 non-null  float64\n",
      " 16  data__orientation__yaw                42462 non-null  float64\n",
      " 17  data__orientation__roll               42462 non-null  float64\n",
      " 18  data__orientation__pitch              42462 non-null  float64\n",
      " 19  data__metrics__latency                42462 non-null  float64\n",
      " 20  data__metrics__rates__update          42462 non-null  float64\n",
      " 21  data__metrics__rates__success         42462 non-null  float64\n",
      " 22  data__coordinates__x                  42462 non-null  float64\n",
      " 23  data__coordinates__y                  42462 non-null  float64\n",
      " 24  reference__x                          42462 non-null  int64  \n",
      " 25  reference__y                          42462 non-null  int64  \n",
      "dtypes: float64(24), int64(2)\n",
      "memory usage: 8.7 MB\n"
     ]
    }
   ],
   "source": [
    "df.info()"
   ],
   "metadata": {
    "collapsed": false,
    "ExecuteTime": {
     "start_time": "2023-05-23T12:08:35.082009Z",
     "end_time": "2023-05-23T12:08:35.089934Z"
    }
   }
  },
  {
   "cell_type": "code",
   "execution_count": 13,
   "outputs": [],
   "source": [
    "df.to_csv('formatted_df_Train_F8.csv',index=False)"
   ],
   "metadata": {
    "collapsed": false,
    "ExecuteTime": {
     "start_time": "2023-05-23T12:08:36.431614Z",
     "end_time": "2023-05-23T12:08:36.778451Z"
    }
   }
  },
  {
   "cell_type": "code",
   "execution_count": null,
   "outputs": [],
   "source": [],
   "metadata": {
    "collapsed": false
   }
  }
 ],
 "metadata": {
  "kernelspec": {
   "display_name": "Python 3",
   "language": "python",
   "name": "python3"
  },
  "language_info": {
   "codemirror_mode": {
    "name": "ipython",
    "version": 2
   },
   "file_extension": ".py",
   "mimetype": "text/x-python",
   "name": "python",
   "nbconvert_exporter": "python",
   "pygments_lexer": "ipython2",
   "version": "2.7.6"
  }
 },
 "nbformat": 4,
 "nbformat_minor": 0
}
