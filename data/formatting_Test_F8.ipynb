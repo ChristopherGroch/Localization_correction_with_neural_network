{
 "cells": [
  {
   "cell_type": "code",
   "execution_count": 1,
   "metadata": {
    "collapsed": true,
    "ExecuteTime": {
     "start_time": "2023-05-23T12:09:15.140981Z",
     "end_time": "2023-05-23T12:09:15.143087Z"
    }
   },
   "outputs": [],
   "source": [
    "import pandas as pd"
   ]
  },
  {
   "cell_type": "code",
   "execution_count": 2,
   "outputs": [],
   "source": [
    "df = pd.read_csv('single_df_Test_F8.csv')"
   ],
   "metadata": {
    "collapsed": false,
    "ExecuteTime": {
     "start_time": "2023-05-23T12:09:16.024498Z",
     "end_time": "2023-05-23T12:09:16.049978Z"
    }
   }
  },
  {
   "cell_type": "code",
   "execution_count": 3,
   "outputs": [
    {
     "name": "stdout",
     "output_type": "stream",
     "text": [
      "<class 'pandas.core.frame.DataFrame'>\n",
      "RangeIndex: 7991 entries, 0 to 7990\n",
      "Data columns (total 37 columns):\n",
      " #   Column                                Non-Null Count  Dtype  \n",
      "---  ------                                --------------  -----  \n",
      " 0   Unnamed: 0.1                          7991 non-null   int64  \n",
      " 1   Unnamed: 0                            7991 non-null   int64  \n",
      " 2   version                               7991 non-null   int64  \n",
      " 3   alive                                 7991 non-null   bool   \n",
      " 4   tagId                                 7991 non-null   int64  \n",
      " 5   success                               7991 non-null   bool   \n",
      " 6   timestamp                             7991 non-null   float64\n",
      " 7   data__tagData__gyro__x                7991 non-null   float64\n",
      " 8   data__tagData__gyro__y                7991 non-null   float64\n",
      " 9   data__tagData__gyro__z                7991 non-null   float64\n",
      " 10  data__tagData__magnetic__x            7991 non-null   float64\n",
      " 11  data__tagData__magnetic__y            7991 non-null   float64\n",
      " 12  data__tagData__magnetic__z            7991 non-null   float64\n",
      " 13  data__tagData__quaternion__x          7991 non-null   float64\n",
      " 14  data__tagData__quaternion__y          7991 non-null   float64\n",
      " 15  data__tagData__quaternion__z          7991 non-null   float64\n",
      " 16  data__tagData__quaternion__w          7991 non-null   float64\n",
      " 17  data__tagData__linearAcceleration__x  7991 non-null   int64  \n",
      " 18  data__tagData__linearAcceleration__y  7991 non-null   int64  \n",
      " 19  data__tagData__linearAcceleration__z  7991 non-null   int64  \n",
      " 20  data__tagData__pressure               7991 non-null   float64\n",
      " 21  data__tagData__maxLinearAcceleration  7991 non-null   int64  \n",
      " 22  data__anchorData                      7991 non-null   object \n",
      " 23  data__acceleration__x                 7991 non-null   int64  \n",
      " 24  data__acceleration__y                 7991 non-null   int64  \n",
      " 25  data__acceleration__z                 7991 non-null   int64  \n",
      " 26  data__orientation__yaw                7991 non-null   float64\n",
      " 27  data__orientation__roll               7991 non-null   float64\n",
      " 28  data__orientation__pitch              7991 non-null   float64\n",
      " 29  data__metrics__latency                7991 non-null   float64\n",
      " 30  data__metrics__rates__update          7991 non-null   float64\n",
      " 31  data__metrics__rates__success         7991 non-null   float64\n",
      " 32  data__coordinates__x                  7991 non-null   int64  \n",
      " 33  data__coordinates__y                  7991 non-null   int64  \n",
      " 34  data__coordinates__z                  7991 non-null   int64  \n",
      " 35  reference__x                          7991 non-null   float64\n",
      " 36  reference__y                          7991 non-null   float64\n",
      "dtypes: bool(2), float64(20), int64(14), object(1)\n",
      "memory usage: 2.1+ MB\n"
     ]
    }
   ],
   "source": [
    "df.info()"
   ],
   "metadata": {
    "collapsed": false,
    "ExecuteTime": {
     "start_time": "2023-05-23T12:09:16.519875Z",
     "end_time": "2023-05-23T12:09:16.527033Z"
    }
   }
  },
  {
   "cell_type": "code",
   "execution_count": 4,
   "outputs": [
    {
     "name": "stdout",
     "output_type": "stream",
     "text": [
      "[ True]\n",
      "[ True]\n"
     ]
    }
   ],
   "source": [
    "print(df['success'].unique())\n",
    "print(df['alive'].unique())"
   ],
   "metadata": {
    "collapsed": false,
    "ExecuteTime": {
     "start_time": "2023-05-23T12:09:18.092889Z",
     "end_time": "2023-05-23T12:09:18.096774Z"
    }
   }
  },
  {
   "cell_type": "code",
   "execution_count": 5,
   "outputs": [],
   "source": [
    "df =df.drop(['Unnamed: 0','Unnamed: 0.1','alive','success','timestamp','data__anchorData','version','tagId','data__coordinates__z','data__tagData__pressure','data__tagData__maxLinearAcceleration'],axis='columns')"
   ],
   "metadata": {
    "collapsed": false,
    "ExecuteTime": {
     "start_time": "2023-05-23T12:09:20.087652Z",
     "end_time": "2023-05-23T12:09:20.092073Z"
    }
   }
  },
  {
   "cell_type": "code",
   "execution_count": 7,
   "outputs": [
    {
     "data": {
      "text/plain": "(7991, 26)"
     },
     "execution_count": 7,
     "metadata": {},
     "output_type": "execute_result"
    }
   ],
   "source": [
    "df.shape"
   ],
   "metadata": {
    "collapsed": false,
    "ExecuteTime": {
     "start_time": "2023-05-23T12:09:25.641187Z",
     "end_time": "2023-05-23T12:09:25.644467Z"
    }
   }
  },
  {
   "cell_type": "code",
   "execution_count": 8,
   "outputs": [],
   "source": [
    "df.to_csv('formatted_df_Test_F8.csv',index=False)"
   ],
   "metadata": {
    "collapsed": false,
    "ExecuteTime": {
     "start_time": "2023-05-23T12:09:26.611103Z",
     "end_time": "2023-05-23T12:09:26.689898Z"
    }
   }
  },
  {
   "cell_type": "code",
   "execution_count": null,
   "outputs": [],
   "source": [],
   "metadata": {
    "collapsed": false
   }
  }
 ],
 "metadata": {
  "kernelspec": {
   "display_name": "Python 3",
   "language": "python",
   "name": "python3"
  },
  "language_info": {
   "codemirror_mode": {
    "name": "ipython",
    "version": 2
   },
   "file_extension": ".py",
   "mimetype": "text/x-python",
   "name": "python",
   "nbconvert_exporter": "python",
   "pygments_lexer": "ipython2",
   "version": "2.7.6"
  }
 },
 "nbformat": 4,
 "nbformat_minor": 0
}
